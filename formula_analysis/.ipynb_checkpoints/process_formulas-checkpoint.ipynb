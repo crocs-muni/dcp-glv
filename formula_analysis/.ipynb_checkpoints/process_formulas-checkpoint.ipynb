{
 "cells": [
  {
   "cell_type": "code",
   "execution_count": 1,
   "id": "9c5192ad",
   "metadata": {
    "lines_to_next_cell": 2
   },
   "outputs": [],
   "source": [
    "import formula as fm\n",
    "import formula_zero as fm0"
   ]
  },
  {
   "cell_type": "code",
   "execution_count": 2,
   "id": "4002d95d",
   "metadata": {
    "lines_to_next_cell": 2
   },
   "outputs": [],
   "source": [
    "path = \"formulas/unrolled\"\n",
    "\n",
    "shortw_add = fm.load_formulas(f\"{path}/shortw_add.json\")\n",
    "edwards_add = fm.load_formulas(f\"{path}/edwards_add.json\")\n",
    "twisted_add = fm.load_formulas(f\"{path}/twisted_add.json\")\n",
    "\n",
    "shortw_dadd = fm.load_formulas(f\"{path}/shortw_dadd.json\")\n",
    "edwards_dadd = fm.load_formulas(f\"{path}/edwards_dadd.json\")\n",
    "montgom_dadd = fm.load_formulas(f\"{path}/montgom_dadd.json\")\n",
    "\n",
    "shortw_ladd = fm.load_formulas(f\"{path}/shortw_ladd.json\")\n",
    "edwards_ladd = fm.load_formulas(f\"{path}/edwards_ladd.json\")\n",
    "montgom_ladd = fm.load_formulas(f\"{path}/montgom_ladd.json\")\n",
    "\n",
    "shortw_dbl = fm.load_formulas(f\"{path}/shortw_dbl.json\")\n",
    "edwards_dbl = fm.load_formulas(f\"{path}/edwards_dbl.json\")\n",
    "twisted_dbl = fm.load_formulas(f\"{path}/twisted_dbl.json\")\n",
    "montgom_dbl = fm.load_formulas(f\"{path}/montgom_dbl.json\")"
   ]
  },
  {
   "cell_type": "code",
   "execution_count": 3,
   "id": "f7fd346a",
   "metadata": {
    "lines_to_next_cell": 2
   },
   "outputs": [
    {
     "name": "stdout",
     "output_type": "stream",
     "text": [
      "Hard:\n",
      " {X2*b + b*X1 - 3, -X2^3 + 3*X2*X1^2 - 2*X1^3 + Y2^2 - 2*Y2*Y1 + Y1^2, -2*X2^4 - 4*X2^3*X1 - 6*X2^2*X1^2 - 4*X2*X1^3 - 2*X1^4 + 3*X2*Y2^2 + 6*X2*Y2*Y1 + 3*X2*Y1^2 + 3*Y2^2*X1 + 6*Y2*Y1*X1 + 3*Y1^2*X1 + 4*X2^2 + 4*X2*X1 + 4*X1^2 - 2, X2^2 + X2*X1 + X1^2 + a, Y2^2 + 2*Y2*Y1 + Y1^2 + X2 + X1, a*X2 - Y2*Y1 + a*X1 + 3*b, Y2^2 + 2*Y2*Y1 + Y1^2 + 2*X2 + 2*X1, a*X2*X1 - a^2 + 3*X2*b + 3*b*X1, Y2*Y1 + X2*X1, -X2*X1 + a, 2*X2 + Y2 - Y1 - 2*X1, -2*X2^2*X1 + 4*X2*X1^2 - 2*X1^3 + Y2^2 - 2*Y2*Y1 + Y1^2, X2 + Y2 - Y1 - X1, Y2 + Y1, a*X2 + a*X1 + 3*b, 3*X2*X1 + a, -X2^2*X1 + 2*X2*X1^2 - X1^3 + Y2^2 - 2*Y2*Y1 + Y1^2, Y2*Y1 + 1, X2 - X1, X2 - X1 + 1, X2 - X1 + 2, Y2*Y1 + 3*X2 - 3*b + 3*X1, X2^2 + X2*X1 + X1^2 - 3, X2^2 + X2*X1 + X1^2 - 1, X2^2 + X2*X1 + X1^2, 2*X2^4 + 4*X2^3*X1 + 6*X2^2*X1^2 + 4*X2*X1^3 + 2*X1^4 + 4*a*X2^2 - 3*X2*Y2^2 - 6*X2*Y2*Y1 - 3*X2*Y1^2 + 4*a*X2*X1 - 3*Y2^2*X1 - 6*Y2*Y1*X1 - 3*Y1^2*X1 + 4*a*X1^2 + 2*a^2, a*X2 + Y2*Y1 + a*X1 + 3*b, X2*b - X2*X1 + b*X1 - 3, X2 + X1 - 1, X2 + X1, X2 + X1 + 1, -X2^3 + 3*X2^2*X1 - 3*X2*X1^2 + X1^3 + Y2^2 - 2*Y2*Y1 + Y1^2, X2*X1 - 1, X2*Y1 + Y2*X1, X2*X1 + 1, Y2 - Y1, -2*X2^4 - 4*X2^3*X1 - 6*X2^2*X1^2 - 4*X2*X1^3 - 2*X1^4 + 3*X2*Y2^2 + 6*X2*Y2*Y1 + 3*X2*Y1^2 + 3*Y2^2*X1 + 6*Y2*Y1*X1 + 3*Y1^2*X1 + 12*X2^2 + 12*X2*X1 + 12*X1^2 - 18, X2 - b + X1, -Y2*Y1 + 3*X2 - 3*b + 3*X1}\n",
      "Easy:\n",
      " {Y1 + X1, Y2 + 1, X1 + 1, X2 + 1, X2 + Y2, Y1 + 1}\n"
     ]
    }
   ],
   "source": [
    "\"\"\"\n",
    "Short Weierstrass addition\n",
    "\"\"\"\n",
    "formula0s = fm0.compute_formula0s(shortw_add)\n",
    "polynomials,polynomials_rpa, polynomials_easy, all_ring = fm0.polynomial_set_all(formula0s)\n",
    "print(\"Hard:\\n\",polynomials)\n",
    "print(\"Easy:\\n\",polynomials_easy)"
   ]
  },
  {
   "cell_type": "code",
   "execution_count": 4,
   "id": "da7225bd",
   "metadata": {
    "lines_to_next_cell": 2
   },
   "outputs": [
    {
     "name": "stdout",
     "output_type": "stream",
     "text": [
      "**Resistant:**\n",
      "\n",
      "\n",
      "**Semi-resistant:**\n",
      "jacobian-0:madd, jacobian-0:add-1998-cmo, jacobian-0:add-2007-bl, jacobian-0:add-1998-cmo-2, jacobian-0:mmadd-2007-bl, jacobian-0:madd-2008-g, {-X2^3 + 3*X2^2*X1 - 3*X2*X1^2 + X1^3 + Y2^2 - 2*Y2*Y1 + Y1^2, -X2^3 + 3*X2*X1^2 - 2*X1^3 + Y2^2 - 2*Y2*Y1 + Y1^2} \n",
      "\n",
      "jacobian-0:zadd-2007-m, {-X2^2*X1 + 2*X2*X1^2 - X1^3 + Y2^2 - 2*Y2*Y1 + Y1^2, -X2^3 + 3*X2*X1^2 - 2*X1^3 + Y2^2 - 2*Y2*Y1 + Y1^2} \n",
      "\n",
      "jacobian-0:madd-2004-hmv, {-2*X2^2*X1 + 4*X2*X1^2 - 2*X1^3 + Y2^2 - 2*Y2*Y1 + Y1^2, -X2^3 + 3*X2*X1^2 - 2*X1^3 + Y2^2 - 2*Y2*Y1 + Y1^2} \n",
      "\n",
      "jacobian-0:madd-2007-bl, {-X2 + X1 - 2, -X2 + X1 - 1, -X2^3 + 3*X2^2*X1 - 3*X2*X1^2 + X1^3 + Y2^2 - 2*Y2*Y1 + Y1^2, -X2^3 + 3*X2*X1^2 - 2*X1^3 + Y2^2 - 2*Y2*Y1 + Y1^2} \n",
      "\n",
      "jacobian-0:add-1986-cc, jacobian-0:add-2001-b, {X2 + X1, -X2^3 + 3*X2*X1^2 - 2*X1^3 + Y2^2 - 2*Y2*Y1 + Y1^2} \n",
      "\n",
      "w12-0:madd-2010-cln, w12-0:add-2010-cln, {-X2 - Y2 + Y1 + X1, -Y2 + Y1, -2*X2 - Y2 + Y1 + 2*X1, -X2^3 + 3*X2*X1^2 - 2*X1^3 + Y2^2 - 2*Y2*Y1 + Y1^2} \n",
      "\n",
      "projective-1:add-1998-cmo, projective-1:add-1998-cmo-2, projective-1:madd-1998-cmo, projective-1:mmadd-1998-cmo, projective:add-1998-cmo, projective:add-1998-cmo-2, projective:madd-1998-cmo, projective:mmadd-1998-cmo, jacobian:madd, jacobian:add-1998-cmo, jacobian:add-2007-bl, jacobian:add-1998-cmo-2, jacobian:mmadd-2007-bl, jacobian:madd-2008-g, xyzz:add-2008-s, xyzz:madd-2008-s, xyzz:mmadd-2008-s, modified:add-1998-cmo-2, modified:add-2009-bl, projective-3:add-1998-cmo, projective-3:add-1998-cmo-2, projective-3:madd-1998-cmo, projective-3:mmadd-1998-cmo, xyzz-3:add-2008-s, xyzz-3:madd-2008-s, xyzz-3:mmadd-2008-s, jacobian-3:madd, jacobian-3:add-1998-cmo, jacobian-3:add-2007-bl, jacobian-3:add-1998-cmo-2, jacobian-3:mmadd-2007-bl, jacobian-3:madd-2008-g, {-Y2 + Y1, -X2^3 + 3*X2^2*X1 - 3*X2*X1^2 + X1^3 + Y2^2 - 2*Y2*Y1 + Y1^2, -X2^3 + 3*X2*X1^2 - 2*X1^3 + Y2^2 - 2*Y2*Y1 + Y1^2} \n",
      "\n",
      "projective-1:add-2002-bj, {X2^2 + X2*X1 + X1^2, X2 + X1, -2*X2^4 - 4*X2^3*X1 - 6*X2^2*X1^2 - 4*X2*X1^3 - 2*X1^4 + 3*X2*Y2^2 + 6*X2*Y2*Y1 + 3*X2*Y1^2 + 3*Y2^2*X1 + 6*Y2*Y1*X1 + 3*Y1^2*X1 + 4*X2^2 + 4*X2*X1 + 4*X1^2 - 2, X2^2 + X2*X1 + X1^2 - 1} \n",
      "\n",
      "projective-1:add-2002-bj-2, {-2*X2^4 - 4*X2^3*X1 - 6*X2^2*X1^2 - 4*X2*X1^3 - 2*X1^4 + 3*X2*Y2^2 + 6*X2*Y2*Y1 + 3*X2*Y1^2 + 3*Y2^2*X1 + 6*Y2*Y1*X1 + 3*Y1^2*X1 + 4*X2^2 + 4*X2*X1 + 4*X1^2 - 2, X2 + X1 - 1, X2 + X1, X2 + X1 + 1, X2^2 + X2*X1 + X1^2 - 1} \n",
      "\n",
      "projective-1:add-2007-bl, {X2^2 + X2*X1 + X1^2, -2*X2^4 - 4*X2^3*X1 - 6*X2^2*X1^2 - 4*X2*X1^3 - 2*X1^4 + 3*X2*Y2^2 + 6*X2*Y2*Y1 + 3*X2*Y1^2 + 3*Y2^2*X1 + 6*Y2*Y1*X1 + 3*Y1^2*X1 + 4*X2^2 + 4*X2*X1 + 4*X1^2 - 2, Y2^2 + 2*Y2*Y1 + Y1^2 + X2 + X1, Y2^2 + 2*Y2*Y1 + Y1^2 + 2*X2 + 2*X1, X2 + X1, X2^2 + X2*X1 + X1^2 - 1} \n",
      "\n",
      "projective:add-2002-bj, {X2^2 + X2*X1 + X1^2, 2*X2^4 + 4*X2^3*X1 + 6*X2^2*X1^2 + 4*X2*X1^3 + 2*X1^4 + 4*a*X2^2 - 3*X2*Y2^2 - 6*X2*Y2*Y1 - 3*X2*Y1^2 + 4*a*X2*X1 - 3*Y2^2*X1 - 6*Y2*Y1*X1 - 3*Y1^2*X1 + 4*a*X1^2 + 2*a^2, X2 + X1, X2^2 + X2*X1 + X1^2 + a} \n",
      "\n",
      "projective:add-2007-bl, {X2^2 + X2*X1 + X1^2, X2^2 + X2*X1 + X1^2 + a, Y2^2 + 2*Y2*Y1 + Y1^2 + X2 + X1, 2*X2^4 + 4*X2^3*X1 + 6*X2^2*X1^2 + 4*X2*X1^3 + 2*X1^4 + 4*a*X2^2 - 3*X2*Y2^2 - 6*X2*Y2*Y1 - 3*X2*Y1^2 + 4*a*X2*X1 - 3*Y2^2*X1 - 6*Y2*Y1*X1 - 3*Y1^2*X1 + 4*a*X1^2 + 2*a^2, Y2^2 + 2*Y2*Y1 + Y1^2 + 2*X2 + 2*X1, X2 + X1} \n",
      "\n",
      "jacobian:zadd-2007-m, jacobian-3:zadd-2007-m, {-X2^2*X1 + 2*X2*X1^2 - X1^3 + Y2^2 - 2*Y2*Y1 + Y1^2, -Y2 + Y1, -X2^3 + 3*X2*X1^2 - 2*X1^3 + Y2^2 - 2*Y2*Y1 + Y1^2} \n",
      "\n",
      "jacobian:madd-2004-hmv, jacobian-3:madd-2004-hmv, {-2*X2^2*X1 + 4*X2*X1^2 - 2*X1^3 + Y2^2 - 2*Y2*Y1 + Y1^2, -Y2 + Y1, -X2^3 + 3*X2*X1^2 - 2*X1^3 + Y2^2 - 2*Y2*Y1 + Y1^2} \n",
      "\n",
      "jacobian:madd-2007-bl, modified:madd-2009-bl, modified:mmadd-2009-bl, jacobian-3:madd-2007-bl, {-X2 + X1 - 2, -X2 + X1 - 1, -X2^3 + 3*X2^2*X1 - 3*X2*X1^2 + X1^3 + Y2^2 - 2*Y2*Y1 + Y1^2, -X2^3 + 3*X2*X1^2 - 2*X1^3 + Y2^2 - 2*Y2*Y1 + Y1^2, -Y2 + Y1} \n",
      "\n",
      "jacobian:add-1986-cc, jacobian:add-2001-b, jacobian-3:add-1986-cc, jacobian-3:add-2001-b, {-Y2 + Y1, X2 + X1, -X2^3 + 3*X2*X1^2 - 2*X1^3 + Y2^2 - 2*Y2*Y1 + Y1^2} \n",
      "\n",
      "projective-3:add-2002-bj, {X2^2 + X2*X1 + X1^2, X2^2 + X2*X1 + X1^2 - 3, -2*X2^4 - 4*X2^3*X1 - 6*X2^2*X1^2 - 4*X2*X1^3 - 2*X1^4 + 3*X2*Y2^2 + 6*X2*Y2*Y1 + 3*X2*Y1^2 + 3*Y2^2*X1 + 6*Y2*Y1*X1 + 3*Y1^2*X1 + 12*X2^2 + 12*X2*X1 + 12*X1^2 - 18, X2 + X1} \n",
      "\n",
      "projective-3:add-2007-bl, {X2^2 + X2*X1 + X1^2, Y2^2 + 2*Y2*Y1 + Y1^2 + X2 + X1, Y2^2 + 2*Y2*Y1 + Y1^2 + 2*X2 + 2*X1, -2*X2^4 - 4*X2^3*X1 - 6*X2^2*X1^2 - 4*X2*X1^3 - 2*X1^4 + 3*X2*Y2^2 + 6*X2*Y2*Y1 + 3*X2*Y1^2 + 3*Y2^2*X1 + 6*Y2*Y1*X1 + 3*Y1^2*X1 + 12*X2^2 + 12*X2*X1 + 12*X1^2 - 18, X2 + X1, X2^2 + X2*X1 + X1^2 - 3} \n",
      "\n",
      "**Vulnerable:**\n",
      "projective:add-2016-rcb: {Y1 + X1, Y2 + 1, X1 + 1, X2 + 1, X2 + Y2, Y1 + 1}, hard:{Y2 + Y1, a*X2 + a*X1 + 3*b, 3*X2*X1 + a, X2*Y1 + Y2*X1, X2*X1 + 1, Y2*Y1 + 1, a*X2 - Y2*Y1 + a*X1 + 3*b, a*X2 + Y2*Y1 + a*X1 + 3*b, a*X2*X1 - a^2 + 3*X2*b + 3*b*X1, Y2*Y1 + X2*X1, -X2*X1 + a, X2 + X1}\n",
      "\n",
      "projective-3:add-2016-rcb: {Y1 + X1, Y2 + 1, X1 + 1, X2 + 1, X2 + Y2, Y1 + 1}, hard:{Y2 + Y1, X2*b + b*X1 - 3, X2*X1 - 1, X2*Y1 + Y2*X1, X2*X1 + 1, Y2*Y1 + 1, X2 - b + X1, Y2*Y1 + X2*X1, X2*b - X2*X1 + b*X1 - 3, -Y2*Y1 + 3*X2 - 3*b + 3*X1, Y2*Y1 + 3*X2 - 3*b + 3*X1, X2 + X1}\n",
      "\n"
     ]
    }
   ],
   "source": [
    "\"\"\"\n",
    "X1-X2 is trivial\n",
    "X1+X2 has only trivial number of solutions for b=0\n",
    "Y1 pm Y2 has only trivial number of solutions for a=0\n",
    "\"\"\"\n",
    "X1,Y1,X2,Y2 = [all_ring.gens_dict()[var] for var in ['X1','Y1','X2','Y2']]\n",
    "for _, formula0 in formula0s.items(): \n",
    "    fm0.remove_polynomials(formula0, set([X1-X2,X2-X1]))\n",
    "    if formula0.coordinates()==\"w12-0\":\n",
    "        fm0.remove_polynomials(formula0, set([X1+X2,-X2-X1]))\n",
    "        continue\n",
    "    if formula0.coordinates().endswith(\"-0\"):\n",
    "        fm0.remove_polynomials(formula0, set([Y1+Y2,-Y2-Y1,Y1-Y2,Y2-Y1]))\n",
    "fm0.results_per_formula(formula0s, \"results/shortw_add.json\")\n",
    "fm0.classify_formulae(formula0s)"
   ]
  },
  {
   "cell_type": "code",
   "execution_count": 5,
   "id": "8ee31e38",
   "metadata": {
    "lines_to_next_cell": 2
   },
   "outputs": [
    {
     "name": "stdout",
     "output_type": "stream",
     "text": [
      "Hard:\n",
      " {2*Y2*X2*d*X1*Y1 + 1, Y2 + X1, Y2*X1 + X2*X1 + X2*Y1, X2 + Y1, Y2 + Y1, Y2*X2*d*X1*Y1 + 2, Y2*X1 + Y2*Y1 + X2*Y1, X2 - X1}\n",
      "RPA:\n",
      " {X2, Y2, Y2*X1 + X2*Y1, X1, -X2*X1 + Y2*Y1, X2*X1 - Y2*Y1, -Y2*X2 + X1*Y1, Y1, -Y2*X1 + X2*Y1, Y2*X2 + X1*Y1, Y2*X2*d*X1*Y1 - 1, Y2*X2*d*X1*Y1 + 1, X2*X1 + Y2*Y1}\n",
      "Easy:\n",
      " {Y2 + X2, X1 + Y1}\n"
     ]
    }
   ],
   "source": [
    "\"\"\"\n",
    "Edwards addition\n",
    "\"\"\"\n",
    "formula0s = fm0.compute_formula0s(edwards_add)\n",
    "polynomials,polynomials_rpa, polynomials_easy, all_ring = fm0.polynomial_set_all(formula0s)\n",
    "print(\"Hard:\\n\",polynomials)\n",
    "print(\"RPA:\\n\",polynomials_rpa)\n",
    "print(\"Easy:\\n\",polynomials_easy)"
   ]
  },
  {
   "cell_type": "code",
   "execution_count": 6,
   "id": "cd7b6938",
   "metadata": {
    "lines_to_next_cell": 2
   },
   "outputs": [
    {
     "name": "stdout",
     "output_type": "stream",
     "text": [
      "**Resistant:**\n",
      "projective:xmadd-2007-hcd, inverted:madd-20080225-hwcd, inverted:xmadd-2007-bl, inverted:add-20080225-hwcd, \n",
      "\n",
      "**Semi-resistant:**\n",
      "projective:madd-2007-bl-3, projective:add-2007-bl-3, {Y2*X1 + Y2*Y1 + X2*Y1, Y2*X2*d*X1*Y1 + 2, 2*Y2*X2*d*X1*Y1 + 1} \n",
      "\n",
      "projective:madd-2007-bl-2, projective:add-2007-bl, projective:mmadd-2007-bl, projective:madd-2007-bl, projective:add-2007-bl-2, {Y2*X1 + Y2*Y1 + X2*Y1} \n",
      "\n",
      "inverted:add-2007-bl, inverted:mmadd-2007-bl, inverted:madd-2007-bl, {Y2*X1 + X2*X1 + X2*Y1} \n",
      "\n",
      "**Vulnerable:**\n"
     ]
    }
   ],
   "source": [
    "\"\"\"\n",
    "Y1+Y2, Y2 + X1, Y1 + X2, X1 - X2, Y2+X2,X1+Y1 have been ruled out in\n",
    "https://link.springer.com/content/pdf/10.1007/s00200-013-0211-2.pdf \n",
    "(they almost never appear only for special cases of points and scalars)\n",
    "\"\"\"\n",
    "X1,Y1,X2,Y2 = [all_ring.gens_dict()[var] for var in ['X1','Y1','X2','Y2']]\n",
    "for _, formula in formula0s.items(): fm0.remove_polynomials(formula, set([Y1+Y2, Y2 + X1, Y1 + X2, X1 - X2,Y2+X2,X1+Y1,X2-X1]))\n",
    "fm0.results_per_formula(formula0s, \"results/edwards_add.json\")\n",
    "fm0.classify_formulae(formula0s)"
   ]
  },
  {
   "cell_type": "code",
   "execution_count": 7,
   "id": "d2041400",
   "metadata": {
    "lines_to_next_cell": 2
   },
   "outputs": [
    {
     "name": "stdout",
     "output_type": "stream",
     "text": [
      "Hard:\n",
      " {-Y2*X1 - X2*X1 + X2*Y1, Y2*X1 + Y2*Y1 + X2*Y1, Y2*X1 + X2*X1 + X2*Y1}\n",
      "Easy:\n",
      " {Y2 + X2, Y2 - X2, X1 - Y1, X1 + Y1}\n"
     ]
    }
   ],
   "source": [
    "\"\"\"\n",
    "Edwards twisted addition\n",
    "\"\"\"\n",
    "formula0s = fm0.compute_formula0s(twisted_add)\n",
    "polynomials,polynomials_rpa, polynomials_easy, all_ring = fm0.polynomial_set_all(formula0s)\n",
    "print(\"Hard:\\n\",polynomials)\n",
    "print(\"Easy:\\n\",polynomials_easy)"
   ]
  },
  {
   "cell_type": "code",
   "execution_count": 8,
   "id": "7c3c8ba6",
   "metadata": {
    "lines_to_next_cell": 2
   },
   "outputs": [
    {
     "name": "stdout",
     "output_type": "stream",
     "text": [
      "**Resistant:**\n",
      "extended-1:mmadd-2008-hwcd-3, extended-1:add-2008-hwcd-4, extended-1:mmadd-2008-hwcd-4, extended-1:add-2008-hwcd-3, extended-1:madd-2008-hwcd-3, extended-1:madd-2008-hwcd-4, \n",
      "\n",
      "**Semi-resistant:**\n",
      "extended-1:mmadd-2008-hwcd-2, extended-1:add-2008-hwcd-2, extended-1:madd-2008-hwcd-2, extended:mmadd-2008-hwcd-2, extended:add-2008-hwcd-2, extended:madd-2008-hwcd-2, {-Y2*X1 - X2*X1 + X2*Y1} \n",
      "\n",
      "extended-1:mmadd-2008-hwcd, extended-1:add-2008-hwcd, extended-1:madd-2008-hwcd, projective:add-2008-bbjlp, projective:mmadd-2008-bbjlp, projective:madd-2008-bbjlp, extended:mmadd-2008-hwcd, extended:add-2008-hwcd, extended:madd-2008-hwcd, {Y2*X1 + Y2*Y1 + X2*Y1} \n",
      "\n",
      "inverted:add-2008-bbjlp, inverted:mmadd-2008-bbjlp, inverted:madd-2008-bbjlp, {Y2*X1 + X2*X1 + X2*Y1} \n",
      "\n",
      "**Vulnerable:**\n"
     ]
    }
   ],
   "source": [
    "\"\"\"\n",
    "Y1+Y2, Y2 + X1, Y1 + X2, X1 - X2, Y2+X2,X1+Y1 have been ruled out in\n",
    "https://link.springer.com/content/pdf/10.1007/s00200-013-0211-2.pdf \n",
    "(they almost never appear only for special cases of points and scalars)\n",
    "\n",
    "X1-Y1, X2-Y2 also can be ruled out\n",
    "\"\"\"\n",
    "X1,Y1,X2,Y2 = [all_ring.gens_dict()[var] for var in ['X1','Y1','X2','Y2']]\n",
    "for _, formula in formula0s.items(): fm0.remove_polynomials(formula, set([Y1+Y2, Y2 + X1, Y1 + X2, X1 - X2,Y2+X2,X1+Y1,X2-X1,X1-Y1,X2-Y2,Y2-X2]))\n",
    "fm0.results_per_formula(formula0s, \"results/twisted_add.json\")\n",
    "fm0.classify_formulae(formula0s)"
   ]
  },
  {
   "cell_type": "code",
   "execution_count": 9,
   "id": "b1261d26",
   "metadata": {
    "lines_to_next_cell": 2
   },
   "outputs": [
    {
     "name": "stdout",
     "output_type": "stream",
     "text": [
      "Hard:\n",
      " {X3 + X2, -X3*X2 + a, X3^2*X2 + X3*X2^2 + X3*a + X2*a + 2*b, X3*X2 + a}\n",
      "Easy:\n",
      " set()\n"
     ]
    }
   ],
   "source": [
    "\"\"\"\n",
    "Short Weierstrass diff addition\n",
    "\"\"\"\n",
    "formula0s = fm0.compute_formula0s(shortw_dadd)\n",
    "polynomials,polynomials_rpa, polynomials_easy, all_ring = fm0.polynomial_set_all(formula0s)\n",
    "print(\"Hard:\\n\",polynomials)\n",
    "print(\"Easy:\\n\",polynomials_easy)"
   ]
  },
  {
   "cell_type": "code",
   "execution_count": 10,
   "id": "0a30df44",
   "metadata": {},
   "outputs": [
    {
     "name": "stdout",
     "output_type": "stream",
     "text": [
      "**Resistant:**\n",
      "\n",
      "\n",
      "**Semi-resistant:**\n",
      "xz:mdadd-2002-bj, xz:mdadd-2002-it-3, xz:dadd-2002-it-3, xz:dadd-2002-it, xz:mdadd-2002-bj-2, xz:mdadd-2002-it, {X3 + X2, -X3*X2 + a} \n",
      "\n",
      "xz:dadd-2002-it-2, xz:mdadd-2002-it-2, xz:mdadd-2002-it-4, xz:dadd-2002-it-4, {X3 + X2, X3^2*X2 + X3*X2^2 + X3*a + X2*a + 2*b, X3*X2 + a} \n",
      "\n",
      "**Vulnerable:**\n"
     ]
    }
   ],
   "source": [
    "fm0.results_per_formula(formula0s, \"results/shortw_dadd.json\")\n",
    "fm0.classify_formulae(formula0s)"
   ]
  },
  {
   "cell_type": "code",
   "execution_count": 11,
   "id": "99a0a0a1",
   "metadata": {
    "lines_to_next_cell": 2
   },
   "outputs": [
    {
     "name": "stdout",
     "output_type": "stream",
     "text": [
      "Hard:\n",
      " set()\n",
      "Easy:\n",
      " {r*Y3^2 - 1, Y2^2*r + 1, Y2^2*r - 1, r*Y3^2 + 1}\n"
     ]
    }
   ],
   "source": [
    "\"\"\"\n",
    "Edwards diff addition\n",
    "\"\"\"\n",
    "formula0s = fm0.compute_formula0s(edwards_dadd)\n",
    "polynomials,polynomials_rpa, polynomials_easy, all_ring = fm0.polynomial_set_all(formula0s)\n",
    "print(\"Hard:\\n\",polynomials)\n",
    "print(\"Easy:\\n\",polynomials_easy)"
   ]
  },
  {
   "cell_type": "code",
   "execution_count": 12,
   "id": "141c2af2",
   "metadata": {},
   "outputs": [
    {
     "name": "stdout",
     "output_type": "stream",
     "text": [
      "**Resistant:**\n",
      "\n",
      "\n",
      "**Semi-resistant:**\n",
      "**Vulnerable:**\n",
      "yz:dadd-2006-g: {r*Y3^2 - 1, Y2^2*r + 1, Y2^2*r - 1, r*Y3^2 + 1}, hard:set()\n",
      "\n",
      "yz:dadd-2006-g-2: {r*Y3^2 - 1, Y2^2*r + 1, Y2^2*r - 1, r*Y3^2 + 1}, hard:set()\n",
      "\n",
      "yz:mdadd-2006-g-2: {r*Y3^2 - 1, Y2^2*r + 1, Y2^2*r - 1, r*Y3^2 + 1}, hard:set()\n",
      "\n",
      "yzsquared:dadd-2006-g: {r*Y3^2 - 1, Y2^2*r + 1, Y2^2*r - 1, r*Y3^2 + 1}, hard:set()\n",
      "\n",
      "yzsquared:mdadd-2006-g: {r*Y3^2 - 1, Y2^2*r + 1, Y2^2*r - 1, r*Y3^2 + 1}, hard:set()\n",
      "\n"
     ]
    }
   ],
   "source": [
    "fm0.results_per_formula(formula0s, \"results/edwards_dadd.json\")\n",
    "fm0.classify_formulae(formula0s)"
   ]
  },
  {
   "cell_type": "code",
   "execution_count": 13,
   "id": "8ef2c09b",
   "metadata": {
    "lines_to_next_cell": 2
   },
   "outputs": [
    {
     "name": "stdout",
     "output_type": "stream",
     "text": [
      "Hard:\n",
      " set()\n",
      "Easy:\n",
      " {X3 + 1, X2 + 1, X3 - 1, X2 - 1}\n"
     ]
    }
   ],
   "source": [
    "\"\"\"\n",
    "Montgomery diff addition\n",
    "\"\"\"\n",
    "formula0s = fm0.compute_formula0s(montgom_dadd)\n",
    "polynomials,polynomials_rpa, polynomials_easy, all_ring = fm0.polynomial_set_all(formula0s)\n",
    "print(\"Hard:\\n\",polynomials)\n",
    "print(\"Easy:\\n\",polynomials_easy)"
   ]
  },
  {
   "cell_type": "code",
   "execution_count": 14,
   "id": "ab22743c",
   "metadata": {},
   "outputs": [
    {
     "name": "stdout",
     "output_type": "stream",
     "text": [
      "**Resistant:**\n",
      "xz:dadd-1987-m, xz:dadd-1987-m-3, xz:dadd-1987-m-2, xz:mdadd-1987-m, \n",
      "\n",
      "**Semi-resistant:**\n",
      "**Vulnerable:**\n"
     ]
    }
   ],
   "source": [
    "\"\"\"\n",
    "X1 pm 1 is a point of order 4\n",
    "\"\"\"\n",
    "X1,X2,X3 = [all_ring.gens_dict()[var] for var in ['X1','X2','X3']]\n",
    "for _, formula in formula0s.items(): fm0.remove_polynomials(formula, set([X1-1,X2-1,X3-1,X1+1,X2+1,X3+1]))\n",
    "fm0.results_per_formula(formula0s, \"results/montgom_dadd.json\")\n",
    "fm0.classify_formulae(formula0s)"
   ]
  },
  {
   "cell_type": "code",
   "execution_count": 15,
   "id": "248f3eb7",
   "metadata": {
    "lines_to_next_cell": 2
   },
   "outputs": [
    {
     "name": "stdout",
     "output_type": "stream",
     "text": [
      "Hard:\n",
      " {X3 + X2, -X3*X2 + a, X3^2*X2 + X3*X2^2 + X3*a + X2*a + 2*b, X3*X2 + a}\n",
      "Easy:\n",
      " {X2 + 1, -X2^2 + a, X2^2 + a, 2*X2 + 1}\n"
     ]
    }
   ],
   "source": [
    "\"\"\"\n",
    "Short Weierstrass ladder\n",
    "\"\"\"\n",
    "formula0s = fm0.compute_formula0s(shortw_ladd)\n",
    "polynomials,polynomials_rpa, polynomials_easy, all_ring = fm0.polynomial_set_all(formula0s)\n",
    "print(\"Hard:\\n\",polynomials)\n",
    "print(\"Easy:\\n\",polynomials_easy)"
   ]
  },
  {
   "cell_type": "code",
   "execution_count": 16,
   "id": "33d15d8c",
   "metadata": {},
   "outputs": [
    {
     "name": "stdout",
     "output_type": "stream",
     "text": [
      "**Resistant:**\n",
      "\n",
      "\n",
      "**Semi-resistant:**\n",
      "**Vulnerable:**\n",
      "xz:mladd-2002-it-5: {X2 + 1, -X2^2 + a, X2^2 + a, 2*X2 + 1}, hard:{X3 + X2, X3^2*X2 + X3*X2^2 + X3*a + X2*a + 2*b, X3*X2 + a}\n",
      "\n",
      "xz:mladd-2002-bj-2: {X2 + 1, -X2^2 + a, X2^2 + a, 2*X2 + 1}, hard:{X3 + X2, -X3*X2 + a}\n",
      "\n",
      "xz:mladd-2002-it-3: {X2 + 1, -X2^2 + a, X2^2 + a, 2*X2 + 1}, hard:{X3 + X2, -X3*X2 + a}\n",
      "\n",
      "xz:mladd-2002-it-4: {X2 + 1, -X2^2 + a, X2^2 + a, 2*X2 + 1}, hard:{X3 + X2, X3^2*X2 + X3*X2^2 + X3*a + X2*a + 2*b, X3*X2 + a}\n",
      "\n",
      "xz:mladd-2002-it-2: {-X2^2 + a, X2^2 + a}, hard:{X3 + X2, X3^2*X2 + X3*X2^2 + X3*a + X2*a + 2*b, X3*X2 + a}\n",
      "\n",
      "xz:ladd-2002-it-2: {-X2^2 + a, X2^2 + a}, hard:{X3 + X2, X3^2*X2 + X3*X2^2 + X3*a + X2*a + 2*b, X3*X2 + a}\n",
      "\n",
      "xz:ladd-2002-it: {-X2^2 + a, X2^2 + a}, hard:{X3 + X2, -X3*X2 + a}\n",
      "\n",
      "xz:mladd-2002-it: {-X2^2 + a, X2^2 + a}, hard:{X3 + X2, -X3*X2 + a}\n",
      "\n",
      "xz:mladd-2002-bj: {-X2^2 + a, X2^2 + a}, hard:{X3 + X2, -X3*X2 + a}\n",
      "\n",
      "xz:ladd-2002-it-4: {X2 + 1, -X2^2 + a, X2^2 + a, 2*X2 + 1}, hard:{X3 + X2, X3^2*X2 + X3*X2^2 + X3*a + X2*a + 2*b, X3*X2 + a}\n",
      "\n",
      "xz:mladd-2002-bj-3: {X2 + 1, -X2^2 + a, X2^2 + a, 2*X2 + 1}, hard:{X3 + X2, -X3*X2 + a}\n",
      "\n",
      "xz:ladd-2002-it-3: {X2 + 1, -X2^2 + a, X2^2 + a, 2*X2 + 1}, hard:{X3 + X2, -X3*X2 + a}\n",
      "\n"
     ]
    }
   ],
   "source": [
    "fm0.results_per_formula(formula0s, \"results/shortw_ladd.json\")\n",
    "fm0.classify_formulae(formula0s)"
   ]
  },
  {
   "cell_type": "code",
   "execution_count": 17,
   "id": "fecfc495",
   "metadata": {
    "lines_to_next_cell": 2
   },
   "outputs": [
    {
     "name": "stdout",
     "output_type": "stream",
     "text": [
      "Hard:\n",
      " set()\n",
      "Easy:\n",
      " {r*Y3^2 - 1, Y2^2*r + 1, Y2^2*r - 1, r*Y3^2 + 1}\n"
     ]
    }
   ],
   "source": [
    "\"\"\"\n",
    "Edwards ladder\n",
    "\"\"\"\n",
    "formula0s = fm0.compute_formula0s(edwards_ladd)\n",
    "polynomials,polynomials_rpa, polynomials_easy, all_ring = fm0.polynomial_set_all(formula0s)\n",
    "print(\"Hard:\\n\",polynomials)\n",
    "print(\"Easy:\\n\",polynomials_easy)"
   ]
  },
  {
   "cell_type": "code",
   "execution_count": 18,
   "id": "c4ef47c8",
   "metadata": {},
   "outputs": [
    {
     "name": "stdout",
     "output_type": "stream",
     "text": [
      "**Resistant:**\n",
      "\n",
      "\n",
      "**Semi-resistant:**\n",
      "**Vulnerable:**\n",
      "yz:mladd-2006-g-2: {r*Y3^2 - 1, Y2^2*r + 1, Y2^2*r - 1, r*Y3^2 + 1}, hard:set()\n",
      "\n",
      "yz:ladd-2006-g: {r*Y3^2 - 1, Y2^2*r + 1, Y2^2*r - 1, r*Y3^2 + 1}, hard:set()\n",
      "\n",
      "yz:ladd-2006-g-2: {r*Y3^2 - 1, Y2^2*r + 1, Y2^2*r - 1, r*Y3^2 + 1}, hard:set()\n",
      "\n",
      "yzsquared:mladd-2006-g-2: {r*Y3^2 - 1, Y2^2*r + 1, Y2^2*r - 1, r*Y3^2 + 1}, hard:set()\n",
      "\n",
      "yzsquared:ladd-2006-g: {r*Y3^2 - 1, Y2^2*r + 1, Y2^2*r - 1, r*Y3^2 + 1}, hard:set()\n",
      "\n",
      "yzsquared:ladd-2006-g-2: {r*Y3^2 - 1, Y2^2*r + 1, Y2^2*r - 1, r*Y3^2 + 1}, hard:set()\n",
      "\n",
      "yzsquared:mladd-2006-g: {r*Y3^2 - 1, Y2^2*r + 1, Y2^2*r - 1, r*Y3^2 + 1}, hard:set()\n",
      "\n"
     ]
    }
   ],
   "source": [
    "fm0.results_per_formula(formula0s, \"results/edwards_ladd.json\")\n",
    "fm0.classify_formulae(formula0s)"
   ]
  },
  {
   "cell_type": "code",
   "execution_count": 19,
   "id": "9284939a",
   "metadata": {
    "lines_to_next_cell": 2
   },
   "outputs": [
    {
     "name": "stdout",
     "output_type": "stream",
     "text": [
      "Hard:\n",
      " set()\n",
      "Easy:\n",
      " {X3 + 1, X2 + a, X3 - 1}\n"
     ]
    }
   ],
   "source": [
    "\"\"\"\n",
    "Montgomery ladder\n",
    "\"\"\"\n",
    "formula0s = fm0.compute_formula0s(montgom_ladd)\n",
    "polynomials,polynomials_rpa, polynomials_easy, all_ring = fm0.polynomial_set_all(formula0s)\n",
    "print(\"Hard:\\n\",polynomials)\n",
    "print(\"Easy:\\n\",polynomials_easy)"
   ]
  },
  {
   "cell_type": "code",
   "execution_count": 20,
   "id": "a607a5ef",
   "metadata": {},
   "outputs": [
    {
     "name": "stdout",
     "output_type": "stream",
     "text": [
      "**Resistant:**\n",
      "xz:ladd-1987-m-2, xz:mladd-1987-m, xz:ladd-1987-m-3, \n",
      "\n",
      "**Semi-resistant:**\n",
      "**Vulnerable:**\n",
      "xz:ladd-1987-m: {X2 + a}, hard:set()\n",
      "\n"
     ]
    }
   ],
   "source": [
    "\"\"\"\n",
    "X1 pm 1 is a point of order 4\n",
    "\"\"\"\n",
    "X1,X2,X3 = [all_ring.gens_dict()[var] for var in ['X1','X2','X3']]\n",
    "for _, formula in formula0s.items(): fm0.remove_polynomials(formula, set([X1-1,X2-1,X3-1,X1+1,X2+1,X3+1]))\n",
    "fm0.results_per_formula(formula0s, \"results/montgom_ladd.json\")\n",
    "fm0.classify_formulae(formula0s)"
   ]
  },
  {
   "cell_type": "code",
   "execution_count": 5,
   "id": "062984cb",
   "metadata": {},
   "outputs": [
    {
     "name": "stdout",
     "output_type": "stream",
     "text": [
      "Easy:\n",
      " {X1 - 1, X1 + 1, -Y1^2 + 3*b - 6*X1, X1^2*a + 6*b*X1 - a^2, 2*X1 + 1, 2*b*X1 - X1^2 - 3, -9*X1^4 + 12*X1*Y1^2 + 6*X1^2 - 1, -X1^2 + a, 2*X1*a + Y1^2 + 3*b, 2*b*X1 - 3, b - 2*X1, 3*X1^2 + a, Y1^2 + 3*b - 6*X1, -3*X1^4 + 4*X1*Y1^2 + 6*X1^2 - 3, 2*X1*a + 3*b, -X1^2 + a - Y1, -X1^2 + a - 2*Y1, X1^2 + a, 2*Y1 + 1, 9*X1^4 + 6*X1^2*a - 12*X1*Y1^2 + a^2, 2*Y1^2 + X1, Y1 + 1, Y1^2 + X1, 3*X1^2 - 1, 2*X1*a - Y1^2 + 3*b, Y1^2 + 2*X1, -3*X1^3 + 4*Y1^2}\n"
     ]
    }
   ],
   "source": [
    "\"\"\"\n",
    "Short Weierstrass doubling\n",
    "\"\"\"\n",
    "formula0s = fm0.compute_formula0s(shortw_dbl)\n",
    "polynomials,polynomials_rpa, _, all_ring = fm0.polynomial_set_all(formula0s)\n",
    "print(\"Easy:\\n\",polynomials)"
   ]
  },
  {
   "cell_type": "code",
   "execution_count": 6,
   "id": "82086728",
   "metadata": {},
   "outputs": [
    {
     "name": "stdout",
     "output_type": "stream",
     "text": [
      "**Resistant:**\n",
      "\n",
      "\n",
      "**Vulnerable:**\n",
      "jacobian-0:dbl-2007-bl, jacobian-0:dbl-2009-alnr, {Y1^2 + X1, 2*Y1 + 1, Y1^2 + 2*X1, -3*X1^3 + 4*Y1^2, Y1 + 1} \n",
      "\n",
      "jacobian-0:dbl-1998-cmo-2, jacobian-0:dbl-1998-cmo, jacobian-0:dbl-1986-cc, {-3*X1^3 + 4*Y1^2} \n",
      "\n",
      "jacobian-0:mdbl-2007-bl, jacobian-0:dbl-2009-l, {-3*X1^3 + 4*Y1^2, Y1^2 + 2*X1, Y1^2 + X1} \n",
      "\n",
      "w12-0:dbl-2010-cln, {X1^2 + a, -X1^2 + a - 2*Y1, -X1^2 + a - Y1} \n",
      "\n",
      "projective-1:dbl-2007-bl, projective-1:mdbl-2007-bl, {-9*X1^4 + 12*X1*Y1^2 + 6*X1^2 - 1, 2*Y1^2 + X1, 3*X1^2 - 1, Y1^2 + X1} \n",
      "\n",
      "projective-1:dbl-1998-cmo-2, projective-1:dbl-1998-cmo, {-9*X1^4 + 12*X1*Y1^2 + 6*X1^2 - 1, 3*X1^2 - 1} \n",
      "\n",
      "projective:dbl-2007-bl, projective:mdbl-2007-bl, modified:mdbl-2009-bl, modified:dbl-2009-bl, {2*Y1^2 + X1, 9*X1^4 + 6*X1^2*a - 12*X1*Y1^2 + a^2, 3*X1^2 + a, Y1^2 + X1} \n",
      "\n",
      "projective:dbl-1998-cmo-2, projective:dbl-1998-cmo, jacobian:dbl-1998-cmo-2, jacobian:dbl-1998-cmo, jacobian:openssl, jacobian:openssl_z1, jacobian:dbl-1986-cc, xyzz:dbl-2008-s-1, xyzz:mdbl-2008-s-1, modified:dbl-1998-cmo-2, {9*X1^4 + 6*X1^2*a - 12*X1*Y1^2 + a^2, 3*X1^2 + a} \n",
      "\n",
      "projective:dbl-2016-rcb, {-X1^2 + a, 2*X1*a + Y1^2 + 3*b, 2*X1*a + 3*b, 2*X1*a - Y1^2 + 3*b, X1^2*a + 6*b*X1 - a^2, 3*X1^2 + a} \n",
      "\n",
      "jacobian:dbl-2007-bl, {Y1^2 + X1, 9*X1^4 + 6*X1^2*a - 12*X1*Y1^2 + a^2, 2*Y1 + 1, Y1^2 + 2*X1, 3*X1^2 + a, Y1 + 1} \n",
      "\n",
      "jacobian:mdbl-2007-bl, {9*X1^4 + 6*X1^2*a - 12*X1*Y1^2 + a^2, Y1^2 + 2*X1, 3*X1^2 + a, Y1^2 + X1} \n",
      "\n",
      "projective-3:dbl-2007-bl, projective-3:mdbl-2007-bl, {Y1^2 + X1, X1 - 1, -3*X1^4 + 4*X1*Y1^2 + 6*X1^2 - 3, X1 + 1, 2*Y1^2 + X1} \n",
      "\n",
      "projective-3:dbl-1998-cmo-2, projective-3:dbl-1998-cmo, projective-3:dbl-2007-bl-2, xyzz-3:dbl-2008-s-1, xyzz-3:dbl-2008-s-2, xyzz-3:mdbl-2008-s-1, xyzz-3:mdbl-2008-s-2, jacobian-3:dbl-1998-cmo-2, jacobian-3:dbl-1998-cmo, jacobian-3:openssl, jacobian-3:dbl-1986-cc-2, jacobian-3:dbl-1986-cc, {-3*X1^4 + 4*X1*Y1^2 + 6*X1^2 - 3, X1 + 1, X1 - 1} \n",
      "\n",
      "projective-3:dbl-2016-rcb, {X1 - 1, -b + 2*X1, X1 + 1, Y1^2 - 3*b + 6*X1, -Y1^2 - 3*b + 6*X1, 2*b*X1 - 3, 2*b*X1 - X1^2 - 3} \n",
      "\n",
      "jacobian-3:dbl-2007-bl, {Y1^2 + X1, X1 - 1, -3*X1^4 + 4*X1*Y1^2 + 6*X1^2 - 3, X1 + 1, 2*Y1 + 1, Y1^2 + 2*X1, Y1 + 1} \n",
      "\n",
      "jacobian-3:mdbl-2007-bl, {Y1^2 + X1, X1 - 1, -3*X1^4 + 4*X1*Y1^2 + 6*X1^2 - 3, X1 + 1, Y1^2 + 2*X1} \n",
      "\n",
      "jacobian-3:dbl-2001-b, {X1 - 1, -3*X1^4 + 4*X1*Y1^2 + 6*X1^2 - 3, X1 + 1, 2*Y1 + 1, Y1 + 1} \n",
      "\n",
      "xz:dbl-2002-bj-2, xz:dbl-2002-bj-3, {-X1^2 + a, X1 + 1, X1^2 + a, 2*X1 + 1} \n",
      "\n",
      "xz:dbl-2002-bj, xz:dbl-2002-it, xz:dbl-2002-it-2, {-X1^2 + a, X1^2 + a} \n",
      "\n"
     ]
    }
   ],
   "source": [
    "fm0.results_per_formula(formula0s, \"results/shortw_dbl.json\")\n",
    "fm0.classify_formulae_dbl(formula0s)"
   ]
  },
  {
   "cell_type": "code",
   "execution_count": 7,
   "id": "09b8c2d6",
   "metadata": {},
   "outputs": [
    {
     "data": {
      "text/plain": [
       "<formula_zero.FormulaZeroes at 0x7f1e0f9af040>"
      ]
     },
     "execution_count": 7,
     "metadata": {},
     "output_type": "execute_result"
    }
   ],
   "source": [
    "f1 = formula0s[\"jacobian:openssl\"]\n",
    "f2 = formula0s[\"jacobian:openssl\"]"
   ]
  },
  {
   "cell_type": "code",
   "execution_count": 23,
   "id": "23ff1e0c",
   "metadata": {},
   "outputs": [
    {
     "name": "stdout",
     "output_type": "stream",
     "text": [
      "Easy:\n",
      " {Y1^2*r - 1, Y1^4*r^2 + 1, Y1^2*r + 1}\n"
     ]
    }
   ],
   "source": [
    "\"\"\"\n",
    "Edwards doubling\n",
    "\"\"\"\n",
    "formula0s = fm0.compute_formula0s(edwards_dbl)\n",
    "polynomials,polynomials_rpa, _, all_ring = fm0.polynomial_set_all(formula0s)\n",
    "print(\"Easy:\\n\",polynomials)"
   ]
  },
  {
   "cell_type": "code",
   "execution_count": 24,
   "id": "04982461",
   "metadata": {},
   "outputs": [
    {
     "name": "stdout",
     "output_type": "stream",
     "text": [
      "**Resistant:**\n",
      "projective:dbl-2007-bl, projective:mdbl-2007-bl, projective:dbl-2007-bl-3, projective:dbl-2007-bl-2, inverted:dbl-2007-bl, inverted:mdbl-2007-bl, \n",
      "\n",
      "**Vulnerable:**\n",
      "yz:mdbl-2006-g-2, yz:mdbl-2006-g-3, {Y1^2*r - 1, Y1^4*r^2 + 1, Y1^2*r + 1} \n",
      "\n",
      "yz:dbl-2006-g, yz:dbl-2006-g-2, yzsquared:dbl-2006-g, yzsquared:mdbl-2006-g, {Y1^2*r - 1, Y1^2*r + 1} \n",
      "\n"
     ]
    }
   ],
   "source": [
    "fm0.results_per_formula(formula0s, \"results/edwards_dbl.json\")\n",
    "fm0.classify_formulae_dbl(formula0s)"
   ]
  },
  {
   "cell_type": "code",
   "execution_count": 25,
   "id": "ddaedd77",
   "metadata": {},
   "outputs": [
    {
     "name": "stdout",
     "output_type": "stream",
     "text": [
      "Easy:\n",
      " {2*Y1 + X1, Y1 + 2*X1, Y1 + X1}\n"
     ]
    }
   ],
   "source": [
    "\"\"\"\n",
    "Edwards twisted doubling\n",
    "\"\"\"\n",
    "formula0s = fm0.compute_formula0s(twisted_dbl)\n",
    "polynomials,polynomials_rpa, _, all_ring = fm0.polynomial_set_all(formula0s)\n",
    "print(\"Easy:\\n\",polynomials)"
   ]
  },
  {
   "cell_type": "code",
   "execution_count": 26,
   "id": "1eec9b6f",
   "metadata": {},
   "outputs": [
    {
     "name": "stdout",
     "output_type": "stream",
     "text": [
      "**Resistant:**\n",
      "\n",
      "\n",
      "**Vulnerable:**\n",
      "extended-1:mdbl-2008-hwcd, extended-1:dbl-2008-hwcd, projective:mdbl-2008-bbjlp, projective:dbl-2008-bbjlp, extended:mdbl-2008-hwcd, extended:dbl-2008-hwcd, {Y1 + 2*X1} \n",
      "\n",
      "inverted:mdbl-2008-bbjlp, inverted:dbl-2008-bbjlp, {2*Y1 + X1} \n",
      "\n"
     ]
    }
   ],
   "source": [
    "\"\"\"\n",
    "X1+Y1 can be ruled out\n",
    "\"\"\"\n",
    "X1,Y1 = [all_ring.gens_dict()[var] for var in ['X1','Y1']]\n",
    "for _, formula in formula0s.items(): fm0.remove_polynomials(formula, set([X1+Y1]))\n",
    "fm0.results_per_formula(formula0s, \"results/twisted_dbl.json\")\n",
    "fm0.classify_formulae_dbl(formula0s)"
   ]
  },
  {
   "cell_type": "code",
   "execution_count": 27,
   "id": "be6cc1a5",
   "metadata": {
    "lines_to_next_cell": 2
   },
   "outputs": [
    {
     "name": "stdout",
     "output_type": "stream",
     "text": [
      "Easy:\n",
      " {a + X1}\n"
     ]
    }
   ],
   "source": [
    "\"\"\"\n",
    "Montgom doubling\n",
    "\"\"\"\n",
    "formula0s = fm0.compute_formula0s(montgom_dbl)\n",
    "polynomials,polynomials_rpa, _, all_ring = fm0.polynomial_set_all(formula0s)\n",
    "print(\"Easy:\\n\",polynomials)"
   ]
  },
  {
   "cell_type": "code",
   "execution_count": 28,
   "id": "a5f3bbbd",
   "metadata": {},
   "outputs": [
    {
     "name": "stdout",
     "output_type": "stream",
     "text": [
      "**Resistant:**\n",
      "xz:dbl-1987-m-2, xz:dbl-1987-m-3, \n",
      "\n",
      "**Vulnerable:**\n",
      "xz:dbl-1987-m, xz:mdbl-1987-m, {a + X1} \n",
      "\n"
     ]
    }
   ],
   "source": [
    "fm0.results_per_formula(formula0s, \"results/montgom_dbl.json\")\n",
    "fm0.classify_formulae_dbl(formula0s)"
   ]
  },
  {
   "cell_type": "markdown",
   "id": "425f5d32",
   "metadata": {},
   "source": [
    "#### Categories with restrictions on curves\n",
    "\n",
    "Short Weierstrass addition: w12-0\n",
    "\n",
    "Short Weierstrass addition: jacobian-3\n",
    "\n",
    "Short Weierstrass addition: jacobian-0\n",
    "\n",
    "Short Weierstrass addition: xyzz-3\n",
    "\n",
    "Short Weierstrass addition: projective-3\n",
    "\n",
    "Short Weierstrass addition: projective-1\n",
    "\n",
    "Twisted Edwards addition: extended-1\n",
    "\n",
    "Edwards differential addition: yz\n",
    "\n",
    "Edwards differential addition: yzsquared\n",
    "\n",
    "Edwards ladder: yz\n",
    "\n",
    "Edwards ladder: yzsquared\n",
    "\n",
    "Edwards doubling: yz\n",
    "\n",
    "Edwards doubling: yzsquared\n",
    "\n",
    "Short Weierstrass doubling: w12-0\n",
    "\n",
    "Short Weierstrass doubling: jacobian-3\n",
    "\n",
    "Short Weierstrass doubling: jacobian-0\n",
    "\n",
    "Short Weierstrass doubling: xyzz-3\n",
    "\n",
    "Short Weierstrass doubling: projective-3\n",
    "\n",
    "Short Weierstrass doubling: projective-1\n",
    "\n",
    "Twisted Edwards doubling: extended-1\n"
   ]
  }
 ],
 "metadata": {
  "jupytext": {
   "cell_metadata_filter": "-all",
   "custom_cell_magics": "kql",
   "encoding": "# coding: utf-8",
   "executable": "/usr/bin/env python"
  },
  "kernelspec": {
   "display_name": "Python 3 (ipykernel)",
   "language": "python",
   "name": "python3"
  },
  "language_info": {
   "codemirror_mode": {
    "name": "ipython",
    "version": 3
   },
   "file_extension": ".py",
   "mimetype": "text/x-python",
   "name": "python",
   "nbconvert_exporter": "python",
   "pygments_lexer": "ipython3",
   "version": "3.10.6"
  },
  "vscode": {
   "interpreter": {
    "hash": "e7370f93d1d0cde622a1f8e1c04877d8463912d04d973331ad4851f04de6915a"
   }
  }
 },
 "nbformat": 4,
 "nbformat_minor": 5
}
