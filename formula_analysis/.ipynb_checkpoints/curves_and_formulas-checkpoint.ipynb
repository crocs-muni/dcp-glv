{
 "cells": [
  {
   "cell_type": "code",
   "execution_count": null,
   "metadata": {},
   "outputs": [],
   "source": [
    "import pandas\n",
    "from IPython.display import display \n",
    "\n",
    "edwards_ladd = pandas.read_pickle('results/edwards_ladd_database.pkl')\n",
    "edwards_dadd = pandas.read_pickle('results/edwards_dadd_database.pkl')\n",
    "edwards_add = pandas.read_pickle('results/edwards_add_database.pkl')\n",
    "edwards_doubling = pandas.read_pickle('results/edwards_dbl_database.pkl')\n",
    "shortw_add = pandas.read_pickle('results/shortw_add_database.pkl')\n",
    "shortw_dadd = pandas.read_pickle('results/shortw_dadd_database.pkl')\n",
    "shortw_ladd = pandas.read_pickle('results/shortw_ladd_database.pkl')\n",
    "shortw_doubling = pandas.read_pickle('results/shortw_dbl_database.pkl')\n",
    "montgom_ladd = pandas.read_pickle('results/montgom_ladd_database.pkl')\n",
    "montgom_dadd = pandas.read_pickle('results/montgom_dadd_database.pkl')\n",
    "montgom_doubling = pandas.read_pickle('results/montgom_dbl_database.pkl')\n",
    "twisted_add = pandas.read_pickle('results/twisted_add_database.pkl')\n",
    "twisted_doubling = pandas.read_pickle('results/twisted_dbl_database.pkl')"
   ]
  },
  {
   "cell_type": "code",
   "execution_count": null,
   "metadata": {},
   "outputs": [],
   "source": [
    "def recommendation(name, df, tag,tag2):\n",
    "    print(f\"Bad {tag2}s\")\n",
    "    bad = df[(df[tag]==name) & (df[\"zvp\"]==\"0\")]\n",
    "    bad_curves = set(bad[tag2])\n",
    "    print(bad_curves)\n",
    "    display(bad[[tag2,\"polynomial\"]])\n",
    "\n",
    "    print(f\"Good {tag2}s\")\n",
    "    notbad = df[(df[tag]==name) & (~df[tag2].isin(list(bad_curves)))]\n",
    "    good = notbad[(notbad[\"zvp\"]==\"2\") & ~(notbad[\"polynomial\"]==\"1\")]\n",
    "    goodcurves = set(good[tag2])\n",
    "    print(goodcurves)\n",
    "    display(good[[tag2,\"polynomial\"]])\n",
    "\n",
    "    print(f\"Ideal {tag2}s\")\n",
    "    ideal = notbad[(notbad[tag]==name) & (~notbad[tag2].isin(list(goodcurves)))]\n",
    "    idealcurves = set(ideal[tag2])\n",
    "    print(idealcurves)\n",
    "    display(ideal[[tag2]])\n",
    "\n",
    "    return bad[[tag2,\"polynomial\"]],good[[tag2,\"polynomial\"]],ideal[[tag2]]\n",
    "\n",
    "def recommendation_doubling(name, df, tag,tag2):\n",
    "    print(f\"Bad {tag2}s\")\n",
    "    bad = df[(df[tag]==name) & (df[\"zvp\"]==\"0\")]\n",
    "    bad_curves = set(bad[tag2])\n",
    "    print(bad_curves)\n",
    "    display(bad[[tag2,\"polynomial\"]])\n",
    "\n",
    "    print(f\"Ideal {tag2}s\")\n",
    "    notbad = df[(df[tag]==name) & (~df[tag2].isin(list(bad_curves)))]\n",
    "    notbadcurves = set(notbad[tag2])\n",
    "    print(notbadcurves)\n",
    "    display(notbad[[tag2]])\n",
    "\n",
    "    return bad[[tag2,\"polynomial\"]], notbad[[tag2]]\n",
    "\n",
    "def formula_recommendation(formula_name,df):\n",
    "    return recommendation(formula_name,df,\"formula\",\"curve\")\n",
    "\n",
    "def curve_recommendation(curve_name,df):\n",
    "    return recommendation(curve_name,df,\"curve\",\"formula\")\n",
    "\n",
    "def formula_recommendation_doubling(formula_name,df):\n",
    "    return recommendation_doubling(formula_name,df,\"formula\",\"curve\")\n",
    "\n",
    "def curve_recommendation_doubling(curve_name,df):\n",
    "    return recommendation_doubling(curve_name,df,\"curve\",\"formula\")"
   ]
  },
  {
   "cell_type": "code",
   "execution_count": null,
   "metadata": {},
   "outputs": [],
   "source": [
    "bad,good,ideal = formula_recommendation(\"inverted:mdbl-2008-bbjlp\",twisted_doubling)"
   ]
  },
  {
   "cell_type": "code",
   "execution_count": null,
   "metadata": {},
   "outputs": [],
   "source": [
    "bad,good,ideal  = curve_recommendation(\"P-256\",shortw_ladd)"
   ]
  },
  {
   "cell_type": "code",
   "execution_count": null,
   "metadata": {},
   "outputs": [],
   "source": [
    "bad,good = formula_recommendation_doubling(\"projective-3:dbl-1998-cmo-2\",shortw_doubling)"
   ]
  },
  {
   "cell_type": "code",
   "execution_count": null,
   "metadata": {},
   "outputs": [],
   "source": [
    "bad,good = curve_recommendation_doubling(\"P-384\",shortw_doubling)"
   ]
  }
 ],
 "metadata": {
  "kernelspec": {
   "display_name": "Python 3 (ipykernel)",
   "language": "python",
   "name": "python3"
  },
  "language_info": {
   "codemirror_mode": {
    "name": "ipython",
    "version": 3
   },
   "file_extension": ".py",
   "mimetype": "text/x-python",
   "name": "python",
   "nbconvert_exporter": "python",
   "pygments_lexer": "ipython3",
   "version": "3.10.6"
  },
  "vscode": {
   "interpreter": {
    "hash": "e7370f93d1d0cde622a1f8e1c04877d8463912d04d973331ad4851f04de6915a"
   }
  }
 },
 "nbformat": 4,
 "nbformat_minor": 2
}
