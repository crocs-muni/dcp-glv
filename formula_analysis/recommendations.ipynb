{
 "cells": [
  {
   "cell_type": "code",
   "execution_count": 36,
   "metadata": {},
   "outputs": [],
   "source": [
    "import pandas\n",
    "from IPython.display import display \n",
    "\n",
    "# edwards_ladd = pandas.read_pickle('results/edwards_ladd_resistance_database.pkl')\n",
    "# edwards_dadd = pandas.read_pickle('results/edwards_dadd_resistance_database.pkl')\n",
    "# edwards_add = pandas.read_pickle('results/edwards_add_resistance_database.pkl')\n",
    "# edwards_doubling = pandas.read_pickle('results/edwards_dbl_resistance_database.pkl')\n",
    "shortw_add = pandas.read_pickle('results/shortw_add_resistance_database.pkl')\n",
    "# shortw_dadd = pandas.read_pickle('results/shortw_dadd_resistance_database.pkl')\n",
    "# shortw_ladd = pandas.read_pickle('results/shortw_ladd_resistance_database.pkl')\n",
    "# shortw_doubling = pandas.read_pickle('results/shortw_dbl_resistance_database.pkl')\n",
    "# montgom_ladd = pandas.read_pickle('results/montgom_ladd_resistance_database.pkl')\n",
    "# montgom_dadd = pandas.read_pickle('results/montgom_dadd_resistance_database.pkl')\n",
    "# montgom_doubling = pandas.read_pickle('results/montgom_dbl_resistance_database.pkl')\n",
    "# twisted_add = pandas.read_pickle('results/twisted_add_resistance_database.pkl')\n",
    "# twisted_doubling = pandas.read_pickle('results/twisted_dbl_resistance_database.pkl')"
   ]
  },
  {
   "cell_type": "code",
   "execution_count": 37,
   "metadata": {},
   "outputs": [],
   "source": [
    "def filter_resistance(df, resistance: str, name1, col1, col2):\n",
    "    print(f\"{resistance} {col2}s\")\n",
    "    filtered = df[df[\"resistance\"]==resistance]\n",
    "    filtered_col2 = set(filtered[col2])\n",
    "    print(filtered_col2)\n",
    "\n",
    "def recommendation_of_col2(df,name1, col1, col2):\n",
    "    supported = df[df[col1]==name1]\n",
    "    filter_resistance(supported,\"Vulnerable\",name1, col1, col2)\n",
    "    filter_resistance(supported,\"Semi-resistant\",name1, col1, col2)\n",
    "    filter_resistance(supported,\"Resistant\",name1, col1, col2)\n",
    "\n",
    "def recommendation_of_curve(formula_name,df):\n",
    "    return recommendation_of_col2(df,formula_name,\"formula\",\"curve\")\n",
    "\n",
    "def recommendation_of_formula(curve_name,df):\n",
    "    return recommendation_of_col2(df,curve_name,\"curve\",\"formula\")"
   ]
  },
  {
   "cell_type": "code",
   "execution_count": 38,
   "metadata": {},
   "outputs": [
    {
     "data": {
      "text/html": [
       "<div>\n",
       "<style scoped>\n",
       "    .dataframe tbody tr th:only-of-type {\n",
       "        vertical-align: middle;\n",
       "    }\n",
       "\n",
       "    .dataframe tbody tr th {\n",
       "        vertical-align: top;\n",
       "    }\n",
       "\n",
       "    .dataframe thead th {\n",
       "        text-align: right;\n",
       "    }\n",
       "</style>\n",
       "<table border=\"1\" class=\"dataframe\">\n",
       "  <thead>\n",
       "    <tr style=\"text-align: right;\">\n",
       "      <th></th>\n",
       "      <th>curve</th>\n",
       "      <th>formula</th>\n",
       "      <th>resistance</th>\n",
       "    </tr>\n",
       "  </thead>\n",
       "  <tbody>\n",
       "    <tr>\n",
       "      <th>0</th>\n",
       "      <td>secp112r1</td>\n",
       "      <td>modified:madd-2009-bl</td>\n",
       "      <td>Semi-resistant</td>\n",
       "    </tr>\n",
       "    <tr>\n",
       "      <th>1</th>\n",
       "      <td>secp112r1</td>\n",
       "      <td>modified:mmadd-2009-bl</td>\n",
       "      <td>Semi-resistant</td>\n",
       "    </tr>\n",
       "    <tr>\n",
       "      <th>2</th>\n",
       "      <td>secp112r1</td>\n",
       "      <td>modified:add-2009-bl</td>\n",
       "      <td>Semi-resistant</td>\n",
       "    </tr>\n",
       "    <tr>\n",
       "      <th>3</th>\n",
       "      <td>secp112r1</td>\n",
       "      <td>modified:add-1998-cmo-2</td>\n",
       "      <td>Semi-resistant</td>\n",
       "    </tr>\n",
       "    <tr>\n",
       "      <th>4</th>\n",
       "      <td>secp112r1</td>\n",
       "      <td>xyzz-3:madd-2008-s</td>\n",
       "      <td>Semi-resistant</td>\n",
       "    </tr>\n",
       "    <tr>\n",
       "      <th>...</th>\n",
       "      <td>...</td>\n",
       "      <td>...</td>\n",
       "      <td>...</td>\n",
       "    </tr>\n",
       "    <tr>\n",
       "      <th>5789</th>\n",
       "      <td>comion224</td>\n",
       "      <td>jacobian:madd-2008-g</td>\n",
       "      <td>Semi-resistant</td>\n",
       "    </tr>\n",
       "    <tr>\n",
       "      <th>5790</th>\n",
       "      <td>comion224</td>\n",
       "      <td>jacobian:add-1998-cmo</td>\n",
       "      <td>Semi-resistant</td>\n",
       "    </tr>\n",
       "    <tr>\n",
       "      <th>5791</th>\n",
       "      <td>comion224</td>\n",
       "      <td>jacobian:madd-2007-bl</td>\n",
       "      <td>Semi-resistant</td>\n",
       "    </tr>\n",
       "    <tr>\n",
       "      <th>5792</th>\n",
       "      <td>comion224</td>\n",
       "      <td>jacobian:add-1986-cc</td>\n",
       "      <td>Semi-resistant</td>\n",
       "    </tr>\n",
       "    <tr>\n",
       "      <th>5793</th>\n",
       "      <td>comion224</td>\n",
       "      <td>jacobian:add-2007-bl</td>\n",
       "      <td>Semi-resistant</td>\n",
       "    </tr>\n",
       "  </tbody>\n",
       "</table>\n",
       "<p>5794 rows × 3 columns</p>\n",
       "</div>"
      ],
      "text/plain": [
       "          curve                  formula      resistance\n",
       "0     secp112r1    modified:madd-2009-bl  Semi-resistant\n",
       "1     secp112r1   modified:mmadd-2009-bl  Semi-resistant\n",
       "2     secp112r1     modified:add-2009-bl  Semi-resistant\n",
       "3     secp112r1  modified:add-1998-cmo-2  Semi-resistant\n",
       "4     secp112r1       xyzz-3:madd-2008-s  Semi-resistant\n",
       "...         ...                      ...             ...\n",
       "5789  comion224     jacobian:madd-2008-g  Semi-resistant\n",
       "5790  comion224    jacobian:add-1998-cmo  Semi-resistant\n",
       "5791  comion224    jacobian:madd-2007-bl  Semi-resistant\n",
       "5792  comion224     jacobian:add-1986-cc  Semi-resistant\n",
       "5793  comion224     jacobian:add-2007-bl  Semi-resistant\n",
       "\n",
       "[5794 rows x 3 columns]"
      ]
     },
     "execution_count": 38,
     "metadata": {},
     "output_type": "execute_result"
    }
   ],
   "source": [
    "shortw_add"
   ]
  },
  {
   "cell_type": "code",
   "execution_count": 39,
   "metadata": {},
   "outputs": [
    {
     "name": "stdout",
     "output_type": "stream",
     "text": [
      "Vulnerable curves\n",
      "{'bn638', 'MNT6-298', 'bn222', 'numsp256d1', 'secp112r2', 'bn254', 'secp192r1', 'T-521', 'gost256', 'ISOBN160', 'ssc-256', 'id-tc26-gost-3410-12-512-paramSetA', 'ISOBN224', 'wap-wsg-idm-ecid-wtls7', 'Curve67254', 'prime192v3', 'BADA55-VPR2-224', 'w-383-mers', 'brainpoolP192t1', 'BADA55-VPR-224', 'Curve1174', 'w-254-mont', 'w-512-mont', 'brainpoolP224t1', 'ssc-320', 'ansip384r1', 'BLS24-477', 'w-382-mont', 'secp160r2', 'mnt3/3', 'MNT4-753', 'Tweedledum', 'secp160r1', 'wap-wsg-idm-ecid-wtls9', 'brainpoolP224r1', 'prime239v3', 'ISOMNT160', 'BLS12-455', 'BADA55-VR-224', 'ansip224r1', 'ssc-192', 'Curve22103', 'bn606', 'P-521', 'bn286', 'Curve4417', 'secp256k1', 'SM2', 'bn510', 'M16Curve', 'bn446', 'ssc-288', 'ISOMNT256', 'ssc-512', 'secp160k1', 'P-224', 'Tweedledee', 'bn190', 'gost512', 'comion192', 'P-384', 'w-510-mont', 'MNT6-753', 'Vesta', 'mnt1', 'id-tc26-gost-3410-12-512-paramSetB', 'mnt3/2', 'mnt4', 'comion224', 'brainpoolP320t1', 'brainpoolP320r1', 'brainpoolP512r1', 'id-GostR3410-2001-CryptoPro-A-ParamSet', 'prime192v2', 'prime239v2', 'P-256', 'BADA55-VR-384', 'ISOFREE234', 'BADA55-R-256', 'ansip521r1', 'comion160', 'mnt5/1', 'secp192k1', 'Fp254BNa', 'ssc-384', 'secp112r1', 'bn158', 'bn542', 'mnt2/2', 'brainpoolP160t1', 'bn318', 'ISOFREE252', 'brainpoolP192r1', 'FRP256v1', 'ansix9p256r1', 'numsp512d1', 'secp128r2', 'w-255-mers', 'BADA55-VR-256', 'Pallas', 'secp224r1', 'brainpoolP256t1', 'P-192', 'ssc-224', 'bn382', 'bn478', 'brainpoolP160r1', 'w-384-mont', 'brainpoolP256r1', 'bn414', 'id-GostR3410-2001-CryptoPro-C-ParamSet', 'ansix9p192r1', 'wap-wsg-idm-ecid-wtls6', 'secp256r1', 'ISOBN384', 'id-GostR3410-2001-CryptoPro-B-ParamSet', 'w-256-mont', 'bn574', 'ssc-160', 'secp384r1', 'brainpoolP384t1', 'secp128r1', 'BLS12-638', 'numsp384d1', 'ISOBN256', 'brainpoolP384r1', 'bn350', 'T-384', 'MNT4-298', 'secp521r1', 'secp224k1', 'wap-wsg-idm-ecid-wtls8'}\n",
      "Semi-resistant curves\n",
      "{'mnt3/1', 'w-511-mers', 'prime239v1', 'T-256', 'BLS12-446', 'ISOBN192', 'brainpoolP512t1', 'mnt5/2', 'ISOBN512', 'BLS12-381', 'mnt2/1', 'mnt5/3'}\n",
      "Resistant curves\n",
      "set()\n"
     ]
    }
   ],
   "source": [
    "recommendation_of_curve(\"projective:add-2015-rcb\",shortw_add)"
   ]
  },
  {
   "cell_type": "code",
   "execution_count": 40,
   "metadata": {},
   "outputs": [
    {
     "name": "stdout",
     "output_type": "stream",
     "text": [
      "Vulnerable formulas\n",
      "{'projective:add-2015-rcb'}\n",
      "Semi-resistant formulas\n",
      "{'projective:madd-2015-rcb', 'jacobian:madd-2004-hmv', 'jacobian:madd-2007-bl', 'jacobian:mmadd-2007-bl', 'projective:add-1998-cmo', 'jacobian-0:mmadd-2007-bl', 'projective:mmadd-1998-cmo', 'modified:mmadd-2009-bl', 'projective:madd-1998-cmo', 'jacobian-0:madd', 'jacobian-0:madd-2004-hmv', 'jacobian-0:add-1998-cmo', 'xyzz:add-2008-s', 'modified:add-2009-bl', 'jacobian:madd', 'projective:add-1998-cmo-2', 'jacobian:zadd-2007-m', 'jacobian-0:add-2001-b', 'xyzz:mmadd-2008-s', 'jacobian-0:add-1986-cc', 'jacobian-0:add-1998-cmo-2', 'jacobian-0:madd-2008-g', 'jacobian-0:madd-2007-bl', 'jacobian-0:zadd-2007-m', 'jacobian:madd-2008-g', 'jacobian:add-2007-bl', 'jacobian:add-1998-cmo', 'jacobian:add-1986-cc', 'xyzz:madd-2008-s', 'jacobian:add-2001-b', 'projective:add-2002-bj', 'projective:add-2007-bl', 'jacobian-0:add-2007-bl', 'jacobian:add-1998-cmo-2', 'modified:madd-2009-bl', 'modified:add-1998-cmo-2'}\n",
      "Resistant formulas\n",
      "set()\n"
     ]
    }
   ],
   "source": [
    "recommendation_of_formula(\"secp256k1\",shortw_add)"
   ]
  }
 ],
 "metadata": {
  "kernelspec": {
   "display_name": "Python 3 (ipykernel)",
   "language": "python",
   "name": "python3"
  },
  "language_info": {
   "codemirror_mode": {
    "name": "ipython",
    "version": 3
   },
   "file_extension": ".py",
   "mimetype": "text/x-python",
   "name": "python",
   "nbconvert_exporter": "python",
   "pygments_lexer": "ipython3",
   "version": "3.10.12"
  },
  "vscode": {
   "interpreter": {
    "hash": "e7370f93d1d0cde622a1f8e1c04877d8463912d04d973331ad4851f04de6915a"
   }
  }
 },
 "nbformat": 4,
 "nbformat_minor": 2
}
