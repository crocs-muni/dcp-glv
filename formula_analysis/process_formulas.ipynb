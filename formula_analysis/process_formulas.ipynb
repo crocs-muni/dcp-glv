{
 "cells": [
  {
   "cell_type": "code",
   "execution_count": 1,
   "id": "9c5192ad",
   "metadata": {
    "lines_to_next_cell": 2
   },
   "outputs": [],
   "source": [
    "import utils.formula as fm\n",
    "import utils.formulazero as fm0"
   ]
  },
  {
   "cell_type": "code",
   "execution_count": 2,
   "id": "f7fd346a",
   "metadata": {
    "lines_to_next_cell": 2
   },
   "outputs": [
    {
     "name": "stdout",
     "output_type": "stream",
     "text": [
      "Hard:\n",
      " {b - X2 - X1, b*X2 + b*X1 - 3, X2 + X1 - 1, 3*X2*X1 - 1, X2 + X1, X2 + X1 + 1, X2^2 + X2*X1 + X1^2 + a, 2*X2^2*X1 - 4*X2*X1^2 + 2*X1^3 - Y1^2 + 2*Y1*Y2 - Y2^2, a*X2*X1 - a^2 + 3*b*X2 + 3*b*X1, Y1*Y2 + 3*b - X2 - X1, 2*X2^4 + 4*X2^3*X1 + 6*X2^2*X1^2 + 4*X2*X1^3 + 2*X1^4 - 3*Y1^2*X2 - 6*Y1*Y2*X2 - 3*Y2^2*X2 + 4*a*X2^2 - 3*Y1^2*X1 - 6*Y1*Y2*X1 - 3*Y2^2*X1 + 4*a*X2*X1 + 4*a*X1^2 + 2*a^2, Y1*X2 + Y2*X1, Y1*Y2 - 3*b + 3*X2 + 3*X1, X2^3 - 3*X2*X1^2 + 2*X1^3 - Y1^2 + 2*Y1*Y2 - Y2^2, X2^2 + X2*X1 + X1^2 - 3, X2^2 + X2*X1 + X1^2 - 1, X2*X1 - 1, X2*X1 + 1, X2^2 + X2*X1 + X1^2, X2*X1 + 3, Y1*Y2 + 1, Y1*Y2 - a*X2 - a*X1 - 3*b, a*X2 + a*X1 + 3*b, Y1*Y2 + 3*b - 3*X2 - 3*X1, Y1*Y2 - 3*b + X2 + X1, X2^2*X1 - 2*X2*X1^2 + X1^3 - Y1^2 + 2*Y1*Y2 - Y2^2, b*X2 + b*X1 - X2*X1 - 3, 3*b*X2 + 3*b*X1 - X2*X1 - 1, X2*X1 - a, Y1 - Y2, 3*X2*X1 + a, X2 - X1 + 1, X2 - X1 + 2, 2*X2^4 + 4*X2^3*X1 + 6*X2^2*X1^2 + 4*X2*X1^3 + 2*X1^4 - 3*Y1^2*X2 - 6*Y1*Y2*X2 - 3*Y2^2*X2 - 3*Y1^2*X1 - 6*Y1*Y2*X1 - 3*Y2^2*X1 - 4*X2^2 - 4*X2*X1 - 4*X1^2 + 2, 3*b - X2 - X1, Y1 - Y2 - 2*X2 + 2*X1, X2^3 - 3*X2^2*X1 + 3*X2*X1^2 - X1^3 - Y1^2 + 2*Y1*Y2 - Y2^2, Y1*Y2 + X2*X1, Y1 + Y2, 2*X2^4 + 4*X2^3*X1 + 6*X2^2*X1^2 + 4*X2*X1^3 + 2*X1^4 - 3*Y1^2*X2 - 6*Y1*Y2*X2 - 3*Y2^2*X2 - 3*Y1^2*X1 - 6*Y1*Y2*X1 - 3*Y2^2*X1 - 12*X2^2 - 12*X2*X1 - 12*X1^2 + 18, Y1 - Y2 - X2 + X1, Y1*Y2 + a*X2 + a*X1 + 3*b}\n",
      "Easy:\n",
      " {Y1 + 1, Y2 + 1, X2 + 1, X1 + 1, Y2 + X2, Y1 + X1}\n"
     ]
    }
   ],
   "source": [
    "\"\"\"\n",
    "Short Weierstrass addition\n",
    "\"\"\"\n",
    "shortw_add = fm.load_formulas(f\"unrolling/unrolled/shortw_add.json\")\n",
    "formula0s = fm0.load_formula0s(shortw_add)\n",
    "print(\"Hard:\\n\",formula0s.hard_zvp())\n",
    "print(\"Easy:\\n\",formula0s.easy_zvp())"
   ]
  },
  {
   "cell_type": "code",
   "execution_count": 3,
   "id": "da7225bd",
   "metadata": {
    "lines_to_next_cell": 2
   },
   "outputs": [
    {
     "name": "stdout",
     "output_type": "stream",
     "text": [
      "**Resistant:**\n",
      "\n",
      "\n",
      "**Semi-resistant:**\n",
      "jacobian-0:madd, jacobian-0:add-1998-cmo, jacobian-0:add-2007-bl, jacobian-0:add-1998-cmo-2, jacobian-0:mmadd-2007-bl, jacobian-0:madd-2007-bl, jacobian-0:madd-2008-g, {X1^3 - 3*X1^2*X2 + 3*X1*X2^2 - X2^3 + Y1^2 - 2*Y1*Y2 + Y2^2, 2*X1^3 - 3*X1^2*X2 + X2^3 - Y1^2 + 2*Y1*Y2 - Y2^2} \n",
      "\n",
      "jacobian-0:zadd-2007-m, {X1^3 - 2*X1^2*X2 + X1*X2^2 - Y1^2 + 2*Y1*Y2 - Y2^2, 2*X1^3 - 3*X1^2*X2 + X2^3 - Y1^2 + 2*Y1*Y2 - Y2^2} \n",
      "\n",
      "jacobian-0:madd-2004-hmv, {2*X1^3 - 4*X1^2*X2 + 2*X1*X2^2 - Y1^2 + 2*Y1*Y2 - Y2^2, 2*X1^3 - 3*X1^2*X2 + X2^3 - Y1^2 + 2*Y1*Y2 - Y2^2} \n",
      "\n",
      "jacobian-0:add-1986-cc, jacobian-0:add-2001-b, {2*X1^3 - 3*X1^2*X2 + X2^3 - Y1^2 + 2*Y1*Y2 - Y2^2, X1 + X2} \n",
      "\n",
      "w12-0:madd-2010-cln, w12-0:add-2010-cln, {X1 - X2 + Y1 - Y2, 2*X1^3 - 3*X1^2*X2 + X2^3 - Y1^2 + 2*Y1*Y2 - Y2^2, 2*X1 - 2*X2 + Y1 - Y2} \n",
      "\n",
      "projective-1:add-1998-cmo, projective-1:add-1998-cmo-2, projective-1:madd-1998-cmo, projective-1:mmadd-1998-cmo, projective:add-1998-cmo, projective:add-1998-cmo-2, projective:madd-1998-cmo, projective:mmadd-1998-cmo, jacobian:madd, jacobian:add-1998-cmo, jacobian:add-2007-bl, jacobian:add-1998-cmo-2, jacobian:mmadd-2007-bl, jacobian:madd-2007-bl, jacobian:madd-2008-g, xyzz:add-2008-s, xyzz:madd-2008-s, xyzz:mmadd-2008-s, modified:madd-2009-bl, modified:add-1998-cmo-2, modified:add-2009-bl, projective-3:add-1998-cmo, projective-3:add-1998-cmo-2, projective-3:madd-1998-cmo, projective-3:mmadd-1998-cmo, xyzz-3:add-2008-s, xyzz-3:madd-2008-s, xyzz-3:mmadd-2008-s, jacobian-3:madd, jacobian-3:add-1998-cmo, jacobian-3:add-2007-bl, jacobian-3:add-1998-cmo-2, jacobian-3:mmadd-2007-bl, jacobian-3:madd-2007-bl, jacobian-3:madd-2008-g, {X1^3 - 3*X1^2*X2 + 3*X1*X2^2 - X2^3 + Y1^2 - 2*Y1*Y2 + Y2^2, 2*X1^3 - 3*X1^2*X2 + X2^3 - Y1^2 + 2*Y1*Y2 - Y2^2, Y1 - Y2} \n",
      "\n",
      "projective-1:add-2002-bj, projective-1:add-2007-bl, {2*X1^4 + 4*X1^3*X2 + 6*X1^2*X2^2 + 4*X1*X2^3 + 2*X2^4 - 3*X1*Y1^2 - 3*X2*Y1^2 - 6*X1*Y1*Y2 - 6*X2*Y1*Y2 - 3*X1*Y2^2 - 3*X2*Y2^2 - 4*X1^2 - 4*X1*X2 - 4*X2^2 + 2, X1^2 + X1*X2 + X2^2, X1 + X2, X1^2 + X1*X2 + X2^2 - 1} \n",
      "\n",
      "projective-1:add-2002-bj-2, {2*X1^4 + 4*X1^3*X2 + 6*X1^2*X2^2 + 4*X1*X2^3 + 2*X2^4 - 3*X1*Y1^2 - 3*X2*Y1^2 - 6*X1*Y1*Y2 - 6*X2*Y1*Y2 - 3*X1*Y2^2 - 3*X2*Y2^2 - 4*X1^2 - 4*X1*X2 - 4*X2^2 + 2, X1 + X2 - 1, X1 + X2, X1 + X2 + 1, X1^2 + X1*X2 + X2^2 - 1} \n",
      "\n",
      "projective:add-2002-bj, projective:add-2007-bl, {X1^2 + X1*X2 + X2^2 + a, X1^2 + X1*X2 + X2^2, X1 + X2, 2*X1^4 + 4*X1^3*X2 + 6*X1^2*X2^2 + 4*X1*X2^3 + 2*X2^4 - 3*X1*Y1^2 - 3*X2*Y1^2 - 6*X1*Y1*Y2 - 6*X2*Y1*Y2 - 3*X1*Y2^2 - 3*X2*Y2^2 + 4*X1^2*a + 4*X1*X2*a + 4*X2^2*a + 2*a^2} \n",
      "\n",
      "jacobian:zadd-2007-m, jacobian-3:zadd-2007-m, {Y1 - Y2, 2*X1^3 - 3*X1^2*X2 + X2^3 - Y1^2 + 2*Y1*Y2 - Y2^2, X1^3 - 2*X1^2*X2 + X1*X2^2 - Y1^2 + 2*Y1*Y2 - Y2^2} \n",
      "\n",
      "jacobian:madd-2004-hmv, jacobian-3:madd-2004-hmv, {2*X1^3 - 4*X1^2*X2 + 2*X1*X2^2 - Y1^2 + 2*Y1*Y2 - Y2^2, 2*X1^3 - 3*X1^2*X2 + X2^3 - Y1^2 + 2*Y1*Y2 - Y2^2, Y1 - Y2} \n",
      "\n",
      "jacobian:add-1986-cc, jacobian:add-2001-b, jacobian-3:add-1986-cc, jacobian-3:add-2001-b, {2*X1^3 - 3*X1^2*X2 + X2^3 - Y1^2 + 2*Y1*Y2 - Y2^2, Y1 - Y2, X1 + X2} \n",
      "\n",
      "modified:mmadd-2009-bl, {X1^3 - 3*X1^2*X2 + 3*X1*X2^2 - X2^3 + Y1^2 - 2*Y1*Y2 + Y2^2, 2*X1^3 - 3*X1^2*X2 + X2^3 - Y1^2 + 2*Y1*Y2 - Y2^2, X1 - X2 - 2, X1 - X2 - 1, Y1 - Y2} \n",
      "\n",
      "projective-3:add-2002-bj, projective-3:add-2007-bl, {X1^2 + X1*X2 + X2^2, X1^2 + X1*X2 + X2^2 - 3, 2*X1^4 + 4*X1^3*X2 + 6*X1^2*X2^2 + 4*X1*X2^3 + 2*X2^4 - 3*X1*Y1^2 - 3*X2*Y1^2 - 6*X1*Y1*Y2 - 6*X2*Y1*Y2 - 3*X1*Y2^2 - 3*X2*Y2^2 - 12*X1^2 - 12*X1*X2 - 12*X2^2 + 18, X1 + X2} \n",
      "\n",
      "**Vulnerable:**\n",
      "projective-1:madd-2015-rcb: {Y1 + 1, Y2 + 1, X2 + 1, X1 + 1, Y2 + X2, Y1 + X1}\n",
      "\n",
      "projective-1:add-2015-rcb: {Y1 + 1, Y2 + 1, X2 + 1, X1 + 1, Y2 + X2, Y1 + X1}\n",
      "\n",
      "projective:madd-2015-rcb: {Y1 + 1, Y2 + 1, X2 + 1, X1 + 1, Y2 + X2, Y1 + X1}\n",
      "\n",
      "projective:add-2015-rcb: {Y1 + 1, Y2 + 1, X2 + 1, X1 + 1, Y2 + X2, Y1 + X1}\n",
      "\n",
      "projective-3:madd-2015-rcb: {Y1 + 1, Y2 + 1, X2 + 1, X1 + 1, Y2 + X2, Y1 + X1}\n",
      "\n",
      "projective-3:add-2015-rcb-3: {Y1 + 1, Y2 + 1, X2 + 1, X1 + 1, Y2 + X2, Y1 + X1}\n",
      "\n",
      "projective-3:madd-2015-rcb-3: {Y1 + 1, Y2 + 1, X2 + 1, X1 + 1, Y2 + X2, Y1 + X1}\n",
      "\n",
      "projective-3:add-2015-rcb: {Y1 + 1, Y2 + 1, X2 + 1, X1 + 1, Y2 + X2, Y1 + X1}\n",
      "\n"
     ]
    }
   ],
   "source": [
    "\"\"\"\n",
    "X1-X2 means a point of order <= 2\n",
    "X1+X2 has only trivial number of solutions for b=0\n",
    "Y1 pm Y2 has only trivial number of solutions for a=0\n",
    "\"\"\"\n",
    "for f0 in formula0s: \n",
    "    f0.remove_polynomials(['X1-X2'])\n",
    "    if f0.formula.b == 0:\n",
    "        f0.remove_polynomials(['X1+X2'])\n",
    "    if f0.formula.a == 0:\n",
    "        f0.remove_polynomials(['Y1+Y2','Y1-Y2','Y2-Y1'])\n",
    "formula0s.update()\n",
    "fm0.save_zvp_results_per_formula(formula0s, \"results/shortw_add.json\")\n",
    "fm0.print_classified_formulas(formula0s)"
   ]
  },
  {
   "cell_type": "code",
   "execution_count": 4,
   "id": "8ee31e38",
   "metadata": {
    "lines_to_next_cell": 2
   },
   "outputs": [
    {
     "name": "stdout",
     "output_type": "stream",
     "text": [
      "Hard:\n",
      " {Y1 + X2, Y2 + X1, Y1 + Y2, Y1*X2 + Y2*X1 + X2*X1, Y1*Y2 + Y1*X2 + Y2*X1, X2 - X1}\n",
      "Easy:\n",
      " {Y2 + X2, Y1 + X1}\n"
     ]
    }
   ],
   "source": [
    "\"\"\"\n",
    "Edwards addition\n",
    "\"\"\"\n",
    "edwards_add = fm.load_formulas(f\"unrolling/unrolled/edwards_add.json\")\n",
    "formula0s = fm0.load_formula0s(edwards_add)\n",
    "print(\"Hard:\\n\",formula0s.hard_zvp())\n",
    "print(\"Easy:\\n\",formula0s.easy_zvp())"
   ]
  },
  {
   "cell_type": "code",
   "execution_count": 5,
   "id": "cd7b6938",
   "metadata": {
    "lines_to_next_cell": 2
   },
   "outputs": [
    {
     "name": "stdout",
     "output_type": "stream",
     "text": [
      "**Resistant:**\n",
      "projective:xmadd-2007-hcd, inverted:madd-20080225-hwcd, inverted:xmadd-2007-bl, inverted:add-20080225-hwcd, \n",
      "\n",
      "**Semi-resistant:**\n",
      "projective:madd-2007-bl-3, projective:add-2007-bl-3, projective:madd-2007-bl-2, projective:add-2007-bl, projective:mmadd-2007-bl, projective:madd-2007-bl, projective:add-2007-bl-2, {X2*Y1 + X1*Y2 + Y1*Y2} \n",
      "\n",
      "inverted:add-2007-bl, inverted:mmadd-2007-bl, inverted:madd-2007-bl, {X1*X2 + X2*Y1 + X1*Y2} \n",
      "\n",
      "**Vulnerable:**\n"
     ]
    }
   ],
   "source": [
    "\"\"\"\n",
    "Y1+Y2, Y2 + X1, Y1 + X2, X1 - X2, Y2+X2,X1+Y1 have been ruled out in\n",
    "https://link.springer.com/content/pdf/10.1007/s00200-013-0211-2.pdf \n",
    "(they almost never appear only for special cases of points and scalars)\n",
    "\n",
    "\"\"\"\n",
    "for f0 in formula0s: \n",
    "    f0.remove_polynomials(['Y1+Y2','Y2 + X1','Y1 + X2', 'X1 - X2','Y2+X2','X1+Y1','X2-X1'])\n",
    "formula0s.update()\n",
    "fm0.save_zvp_results_per_formula(formula0s, \"results/edwards_add.json\")\n",
    "fm0.print_classified_formulas(formula0s)"
   ]
  },
  {
   "cell_type": "code",
   "execution_count": 6,
   "id": "d2041400",
   "metadata": {
    "lines_to_next_cell": 2
   },
   "outputs": [
    {
     "name": "stdout",
     "output_type": "stream",
     "text": [
      "Hard:\n",
      " {Y1*X2 + Y2*X1 + X2*X1, Y1*Y2 + Y1*X2 + Y2*X1, Y1*X2 - Y2*X1 - X2*X1}\n",
      "Easy:\n",
      " {Y1 + X1, Y1 - X1, Y2 - X2, Y2 + X2}\n"
     ]
    }
   ],
   "source": [
    "\"\"\"\n",
    "Edwards twisted addition\n",
    "\"\"\"\n",
    "twisted_add = fm.load_formulas(f\"unrolling/unrolled/twisted_add.json\")\n",
    "formula0s = fm0.load_formula0s(twisted_add)\n",
    "print(\"Hard:\\n\",formula0s.hard_zvp())\n",
    "print(\"Easy:\\n\",formula0s.easy_zvp())"
   ]
  },
  {
   "cell_type": "code",
   "execution_count": 7,
   "id": "7c3c8ba6",
   "metadata": {
    "lines_to_next_cell": 2
   },
   "outputs": [
    {
     "name": "stdout",
     "output_type": "stream",
     "text": [
      "**Resistant:**\n",
      "extended-1:mmadd-2008-hwcd-3, extended-1:add-2008-hwcd-4, extended-1:mmadd-2008-hwcd-4, extended-1:add-2008-hwcd-3, extended-1:madd-2008-hwcd-3, extended-1:madd-2008-hwcd-4, \n",
      "\n",
      "**Semi-resistant:**\n",
      "extended-1:mmadd-2008-hwcd-2, extended-1:add-2008-hwcd-2, extended-1:madd-2008-hwcd-2, extended:mmadd-2008-hwcd-2, extended:add-2008-hwcd-2, extended:madd-2008-hwcd-2, {X1*X2 - X2*Y1 + X1*Y2} \n",
      "\n",
      "extended-1:mmadd-2008-hwcd, extended-1:add-2008-hwcd, extended-1:madd-2008-hwcd, projective:add-2008-bbjlp, projective:mmadd-2008-bbjlp, projective:madd-2008-bbjlp, extended:mmadd-2008-hwcd, extended:add-2008-hwcd, extended:madd-2008-hwcd, {X2*Y1 + X1*Y2 + Y1*Y2} \n",
      "\n",
      "inverted:add-2008-bbjlp, inverted:mmadd-2008-bbjlp, inverted:madd-2008-bbjlp, {X1*X2 + X2*Y1 + X1*Y2} \n",
      "\n",
      "**Vulnerable:**\n"
     ]
    }
   ],
   "source": [
    "\"\"\"\n",
    "Y1+Y2, Y2 + X1, Y1 + X2, X1 - X2, Y2+X2,X1+Y1 have been ruled out in\n",
    "https://link.springer.com/content/pdf/10.1007/s00200-013-0211-2.pdf \n",
    "(they almost never appear only for special cases of points and scalars)\n",
    "\n",
    "X1-Y1, X2-Y2 also can be ruled out\n",
    "\"\"\"\n",
    "for f0 in formula0s: \n",
    "    f0.remove_polynomials(['Y1+Y2','Y2 + X1','Y1 + X2', 'X1 - X2','Y2+X2','X1+Y1','X2-X1','X1-Y1','X2-Y2'])\n",
    "formula0s.update()\n",
    "fm0.save_zvp_results_per_formula(formula0s, \"results/twisted_add.json\")\n",
    "fm0.print_classified_formulas(formula0s)"
   ]
  },
  {
   "cell_type": "code",
   "execution_count": 8,
   "id": "b1261d26",
   "metadata": {
    "lines_to_next_cell": 2
   },
   "outputs": [
    {
     "name": "stdout",
     "output_type": "stream",
     "text": [
      "Hard:\n",
      " {X3 + X2, X3^2*X2 + X3*X2^2 + X3*a + a*X2 + 2*b, X3*X2 - a, X3*X2 + a}\n",
      "Easy:\n",
      " set()\n"
     ]
    }
   ],
   "source": [
    "\"\"\"\n",
    "Short Weierstrass diff addition\n",
    "\"\"\"\n",
    "shortw_dadd = fm.load_formulas(f\"unrolling/unrolled/shortw_dadd.json\")\n",
    "formula0s = fm0.load_formula0s(shortw_dadd)\n",
    "print(\"Hard:\\n\",formula0s.hard_zvp())\n",
    "print(\"Easy:\\n\",formula0s.easy_zvp())"
   ]
  },
  {
   "cell_type": "code",
   "execution_count": 9,
   "id": "0a30df44",
   "metadata": {},
   "outputs": [
    {
     "name": "stdout",
     "output_type": "stream",
     "text": [
      "**Resistant:**\n",
      "\n",
      "\n",
      "**Semi-resistant:**\n",
      "xz:mdadd-2002-bj, xz:mdadd-2002-it-3, xz:dadd-2002-it-3, xz:dadd-2002-it, xz:mdadd-2002-bj-2, xz:mdadd-2002-it, {X2 + X3, X2*X3 - a} \n",
      "\n",
      "xz:dadd-2002-it-2, xz:mdadd-2002-it-2, xz:mdadd-2002-it-4, xz:dadd-2002-it-4, {X2 + X3, X2^2*X3 + X2*X3^2 + X2*a + X3*a + 2*b, X2*X3 + a} \n",
      "\n",
      "**Vulnerable:**\n"
     ]
    }
   ],
   "source": [
    "for f0 in formula0s: \n",
    "    f0.remove_polynomials(['X2-X3'])\n",
    "formula0s.update()\n",
    "fm0.save_zvp_results_per_formula(formula0s, \"results/shortw_dadd.json\")\n",
    "fm0.print_classified_formulas(formula0s)"
   ]
  },
  {
   "cell_type": "code",
   "execution_count": 10,
   "id": "99a0a0a1",
   "metadata": {
    "lines_to_next_cell": 2
   },
   "outputs": [
    {
     "name": "stdout",
     "output_type": "stream",
     "text": [
      "Hard:\n",
      " set()\n",
      "Easy:\n",
      " {Y2^2*r - 1, Y3^2*r - 1, Y2^2*r + 1, Y3^2*r + 1}\n"
     ]
    }
   ],
   "source": [
    "\"\"\"\n",
    "Edwards diff addition\n",
    "\"\"\"\n",
    "edwards_dadd = fm.load_formulas(f\"unrolling/unrolled/edwards_dadd.json\")\n",
    "formula0s = fm0.load_formula0s(edwards_dadd)\n",
    "print(\"Hard:\\n\",formula0s.hard_zvp())\n",
    "print(\"Easy:\\n\",formula0s.easy_zvp())"
   ]
  },
  {
   "cell_type": "code",
   "execution_count": 11,
   "id": "141c2af2",
   "metadata": {},
   "outputs": [
    {
     "name": "stdout",
     "output_type": "stream",
     "text": [
      "**Resistant:**\n",
      "\n",
      "\n",
      "**Semi-resistant:**\n",
      "**Vulnerable:**\n",
      "yz:dadd-2006-g: {Y2^2*r - 1, Y3^2*r - 1, Y2^2*r + 1, Y3^2*r + 1}\n",
      "\n",
      "yz:dadd-2006-g-2: {Y2^2*r - 1, Y3^2*r - 1, Y2^2*r + 1, Y3^2*r + 1}\n",
      "\n",
      "yz:mdadd-2006-g-2: {Y2^2*r - 1, Y3^2*r - 1, Y2^2*r + 1, Y3^2*r + 1}\n",
      "\n",
      "yzsquared:dadd-2006-g: {Y2^2*r - 1, Y3^2*r - 1, Y2^2*r + 1, Y3^2*r + 1}\n",
      "\n",
      "yzsquared:mdadd-2006-g: {Y2^2*r - 1, Y3^2*r - 1, Y2^2*r + 1, Y3^2*r + 1}\n",
      "\n"
     ]
    }
   ],
   "source": [
    "fm0.save_zvp_results_per_formula(formula0s, \"results/edwards_dadd.json\")\n",
    "fm0.print_classified_formulas(formula0s)"
   ]
  },
  {
   "cell_type": "code",
   "execution_count": 12,
   "id": "8ef2c09b",
   "metadata": {
    "lines_to_next_cell": 2
   },
   "outputs": [
    {
     "name": "stdout",
     "output_type": "stream",
     "text": [
      "Hard:\n",
      " set()\n",
      "Easy:\n",
      " {X2 + 1, X3 + 1, X2 - 1, X3 - 1}\n"
     ]
    }
   ],
   "source": [
    "\"\"\"\n",
    "Montgomery diff addition\n",
    "\"\"\"\n",
    "montgom_dadd = fm.load_formulas(f\"unrolling/unrolled/montgom_dadd.json\")\n",
    "formula0s = fm0.load_formula0s(montgom_dadd)\n",
    "print(\"Hard:\\n\",formula0s.hard_zvp())\n",
    "print(\"Easy:\\n\",formula0s.easy_zvp())"
   ]
  },
  {
   "cell_type": "code",
   "execution_count": 13,
   "id": "ab22743c",
   "metadata": {},
   "outputs": [
    {
     "name": "stdout",
     "output_type": "stream",
     "text": [
      "**Resistant:**\n",
      "xz:dadd-1987-m, xz:dadd-1987-m-3, xz:dadd-1987-m-2, xz:mdadd-1987-m, \n",
      "\n",
      "**Semi-resistant:**\n",
      "**Vulnerable:**\n"
     ]
    }
   ],
   "source": [
    "\"\"\"\n",
    "X1 pm 1 is a point of order 4\n",
    "\"\"\"\n",
    "for f0 in formula0s: \n",
    "    f0.remove_polynomials(['X1-1','X2-1','X3-1','X1+1','X2+1','X3+1'])\n",
    "formula0s.update()\n",
    "fm0.save_zvp_results_per_formula(formula0s, \"results/montgom_dadd.json\")\n",
    "fm0.print_classified_formulas(formula0s)"
   ]
  },
  {
   "cell_type": "code",
   "execution_count": 14,
   "id": "248f3eb7",
   "metadata": {
    "lines_to_next_cell": 2
   },
   "outputs": [
    {
     "name": "stdout",
     "output_type": "stream",
     "text": [
      "Hard:\n",
      " {X3 + X2, X3^2*X2 + X3*X2^2 + X3*a + a*X2 + 2*b, X3*X2 - a, X3*X2 + a}\n",
      "Easy:\n",
      " {X2^2 + a, X2^3 + a*X2 + b, X2^2 - a, X2^4 - 2*a*X2^2 + a^2 - 8*b*X2, X2 + 1, 2*X2 + 1}\n"
     ]
    }
   ],
   "source": [
    "\"\"\"\n",
    "Short Weierstrass ladder\n",
    "\"\"\"\n",
    "shortw_ladd = fm.load_formulas(f\"unrolling/unrolled/shortw_ladd.json\")\n",
    "formula0s = fm0.load_formula0s(shortw_ladd)\n",
    "print(\"Hard:\\n\",formula0s.hard_zvp())\n",
    "print(\"Easy:\\n\",formula0s.easy_zvp())"
   ]
  },
  {
   "cell_type": "code",
   "execution_count": 15,
   "id": "33d15d8c",
   "metadata": {},
   "outputs": [
    {
     "name": "stdout",
     "output_type": "stream",
     "text": [
      "**Resistant:**\n",
      "\n",
      "\n",
      "**Semi-resistant:**\n",
      "**Vulnerable:**\n",
      "xz:mladd-2002-it-5: {X2^2 + a, X2^3 + a*X2 + b, X2^2 - a, X2^4 - 2*a*X2^2 + a^2 - 8*b*X2, X2 + 1, 2*X2 + 1}\n",
      "\n",
      "xz:mladd-2002-bj-2: {X2^2 + a, X2^3 + a*X2 + b, X2^2 - a, X2^4 - 2*a*X2^2 + a^2 - 8*b*X2, X2 + 1, 2*X2 + 1}\n",
      "\n",
      "xz:mladd-2002-it-3: {X2^2 + a, X2^3 + a*X2 + b, X2^2 - a, X2^4 - 2*a*X2^2 + a^2 - 8*b*X2, X2 + 1, 2*X2 + 1}\n",
      "\n",
      "xz:mladd-2002-it-4: {X2^2 + a, X2^3 + a*X2 + b, X2^2 - a, X2^4 - 2*a*X2^2 + a^2 - 8*b*X2, X2 + 1, 2*X2 + 1}\n",
      "\n",
      "xz:mladd-2002-it-2: {X2^2 + a, X2^3 + a*X2 + b, X2^2 - a, X2^4 - 2*a*X2^2 + a^2 - 8*b*X2, X2 + 1, 2*X2 + 1}\n",
      "\n",
      "xz:ladd-2002-it-2: {X2^2 + a, X2^3 + a*X2 + b, X2^2 - a, X2^4 - 2*a*X2^2 + a^2 - 8*b*X2, X2 + 1, 2*X2 + 1}\n",
      "\n",
      "xz:ladd-2002-it: {X2^2 + a, X2^3 + a*X2 + b, X2^2 - a, X2^4 - 2*a*X2^2 + a^2 - 8*b*X2, X2 + 1, 2*X2 + 1}\n",
      "\n",
      "xz:mladd-2002-it: {X2^2 + a, X2^3 + a*X2 + b, X2^2 - a, X2^4 - 2*a*X2^2 + a^2 - 8*b*X2, X2 + 1, 2*X2 + 1}\n",
      "\n",
      "xz:mladd-2002-bj: {X2^2 + a, X2^3 + a*X2 + b, X2^2 - a, X2^4 - 2*a*X2^2 + a^2 - 8*b*X2, X2 + 1, 2*X2 + 1}\n",
      "\n",
      "xz:ladd-2002-it-4: {X2^2 + a, X2^3 + a*X2 + b, X2^2 - a, X2^4 - 2*a*X2^2 + a^2 - 8*b*X2, X2 + 1, 2*X2 + 1}\n",
      "\n",
      "xz:mladd-2002-bj-3: {X2^2 + a, X2^3 + a*X2 + b, X2^2 - a, X2^4 - 2*a*X2^2 + a^2 - 8*b*X2, X2 + 1, 2*X2 + 1}\n",
      "\n",
      "xz:ladd-2002-it-3: {X2^2 + a, X2^3 + a*X2 + b, X2^2 - a, X2^4 - 2*a*X2^2 + a^2 - 8*b*X2, X2 + 1, 2*X2 + 1}\n",
      "\n"
     ]
    }
   ],
   "source": [
    "fm0.save_zvp_results_per_formula(formula0s, \"results/shortw_ladd.json\")\n",
    "fm0.print_classified_formulas(formula0s)"
   ]
  },
  {
   "cell_type": "code",
   "execution_count": 16,
   "id": "fecfc495",
   "metadata": {
    "lines_to_next_cell": 2
   },
   "outputs": [
    {
     "name": "stdout",
     "output_type": "stream",
     "text": [
      "Hard:\n",
      " set()\n",
      "Easy:\n",
      " {Y2^2*r - 1, Y2^2*r + 1, Y2^4*r^2 - 2*Y2^2*r^2 + 1, Y2^4*r^2 - 2*Y2^2 + 1, Y3^2*r - 1, Y3^2*r + 1}\n"
     ]
    }
   ],
   "source": [
    "\"\"\"\n",
    "Edwards ladder\n",
    "\"\"\"\n",
    "edwards_ladd = fm.load_formulas(f\"unrolling/unrolled/edwards_ladd.json\")\n",
    "formula0s = fm0.load_formula0s(edwards_ladd)\n",
    "print(\"Hard:\\n\",formula0s.hard_zvp())\n",
    "print(\"Easy:\\n\",formula0s.easy_zvp())"
   ]
  },
  {
   "cell_type": "code",
   "execution_count": 17,
   "id": "c4ef47c8",
   "metadata": {},
   "outputs": [
    {
     "name": "stdout",
     "output_type": "stream",
     "text": [
      "**Resistant:**\n",
      "\n",
      "\n",
      "**Semi-resistant:**\n",
      "**Vulnerable:**\n",
      "yz:mladd-2006-g-2: {Y2^2*r - 1, Y2^2*r + 1, Y2^4*r^2 - 2*Y2^2*r^2 + 1, Y2^4*r^2 - 2*Y2^2 + 1, Y3^2*r - 1, Y3^2*r + 1}\n",
      "\n",
      "yz:ladd-2006-g: {Y2^2*r - 1, Y2^2*r + 1, Y2^4*r^2 - 2*Y2^2*r^2 + 1, Y2^4*r^2 - 2*Y2^2 + 1, Y3^2*r - 1, Y3^2*r + 1}\n",
      "\n",
      "yz:ladd-2006-g-2: {Y2^2*r - 1, Y2^2*r + 1, Y2^4*r^2 - 2*Y2^2*r^2 + 1, Y2^4*r^2 - 2*Y2^2 + 1, Y3^2*r - 1, Y3^2*r + 1}\n",
      "\n",
      "yzsquared:mladd-2006-g-2: {Y2^2*r - 1, Y2^2*r + 1, Y2^4*r^2 - 2*Y2^2*r^2 + 1, Y2^4*r^2 - 2*Y2^2 + 1, Y3^2*r - 1, Y3^2*r + 1}\n",
      "\n",
      "yzsquared:ladd-2006-g: {Y2^2*r - 1, Y2^2*r + 1, Y2^4*r^2 - 2*Y2^2*r^2 + 1, Y2^4*r^2 - 2*Y2^2 + 1, Y3^2*r - 1, Y3^2*r + 1}\n",
      "\n",
      "yzsquared:ladd-2006-g-2: {Y2^2*r - 1, Y2^2*r + 1, Y2^4*r^2 - 2*Y2^2*r^2 + 1, Y2^4*r^2 - 2*Y2^2 + 1, Y3^2*r - 1, Y3^2*r + 1}\n",
      "\n",
      "yzsquared:mladd-2006-g: {Y2^2*r - 1, Y2^2*r + 1, Y2^4*r^2 - 2*Y2^2*r^2 + 1, Y2^4*r^2 - 2*Y2^2 + 1, Y3^2*r - 1, Y3^2*r + 1}\n",
      "\n"
     ]
    }
   ],
   "source": [
    "fm0.save_zvp_results_per_formula(formula0s, \"results/edwards_ladd.json\")\n",
    "fm0.print_classified_formulas(formula0s)"
   ]
  },
  {
   "cell_type": "code",
   "execution_count": 18,
   "id": "9284939a",
   "metadata": {
    "lines_to_next_cell": 2
   },
   "outputs": [
    {
     "name": "stdout",
     "output_type": "stream",
     "text": [
      "Hard:\n",
      " set()\n",
      "Easy:\n",
      " {X3 + 1, a + X2, X2 - 1, X2 + 1, a*X2 + X2^2 + 1, X3 - 1}\n"
     ]
    }
   ],
   "source": [
    "\"\"\"\n",
    "Montgomery ladder\n",
    "\"\"\"\n",
    "montgom_ladd = fm.load_formulas(f\"unrolling/unrolled/montgom_ladd.json\")\n",
    "formula0s = fm0.load_formula0s(montgom_ladd)\n",
    "print(\"Hard:\\n\",formula0s.hard_zvp())\n",
    "print(\"Easy:\\n\",formula0s.easy_zvp())"
   ]
  },
  {
   "cell_type": "code",
   "execution_count": 19,
   "id": "a607a5ef",
   "metadata": {},
   "outputs": [
    {
     "name": "stdout",
     "output_type": "stream",
     "text": [
      "**Resistant:**\n",
      "xz:ladd-1987-m-2, xz:mladd-1987-m, xz:ladd-1987-m-3, \n",
      "\n",
      "**Semi-resistant:**\n",
      "**Vulnerable:**\n",
      "xz:ladd-1987-m: {a + X2}\n",
      "\n"
     ]
    }
   ],
   "source": [
    "\"\"\"\n",
    "X1 pm 1 is a point of order 4\n",
    "a*X2 + X2^2 + 1 is point of order 2\n",
    "\"\"\"\n",
    "for f0 in formula0s: \n",
    "    f0.remove_polynomials(['X1-1','X2 - 1','X3-1','X1+1','X2+1','X3+1','a*X2 + X2^2 + 1'])\n",
    "formula0s.update()\n",
    "fm0.save_zvp_results_per_formula(formula0s, \"results/montgom_ladd.json\")\n",
    "fm0.print_classified_formulas(formula0s)"
   ]
  },
  {
   "cell_type": "code",
   "execution_count": 20,
   "id": "062984cb",
   "metadata": {},
   "outputs": [
    {
     "name": "stdout",
     "output_type": "stream",
     "text": [
      "Easy:\n",
      " {3*X1^2 - 1, Y1^2 + 3*b - 2*X1, 2*b*X1 - X1^2 - 3, 2*X1 + 1, X1 - 1, X1^2 + 1, X1 + 1, X1^2 + 3, 2*b*X1 - 3, 9*X1^4 - 12*Y1^2*X1 + 6*a*X1^2 + a^2, Y1^2 - 3*b + 6*X1, Y1^2 + 3*b - 6*X1, 6*b*X1 - X1^2 - 1, X1^2 - a, Y1^2 - 2*a*X1 - 3*b, Y1^2 - 3*b + 2*X1, 3*X1^3 - 4*Y1^2, 3*X1^4 - 4*Y1^2*X1 - 6*X1^2 + 3, 2*a*X1 + 3*b, 9*X1^4 - 12*Y1^2*X1 - 6*X1^2 + 1, 3*b - 2*X1, a*X1^2 - a^2 + 6*b*X1, X1^2 + Y1 - a, 3*X1^2 + a, X1^2 + 2*Y1 - a, X1^2 + a, b - 2*X1, Y1^2 + 2*a*X1 + 3*b}\n"
     ]
    }
   ],
   "source": [
    "\"\"\"\n",
    "Short Weierstrass doubling\n",
    "\"\"\"\n",
    "shortw_dbl = fm.load_formulas(f\"unrolling/unrolled/shortw_dbl.json\")\n",
    "formula0s = fm0.load_formula0s(shortw_dbl)\n",
    "print(\"Easy:\\n\",formula0s.easy_zvp())"
   ]
  },
  {
   "cell_type": "code",
   "execution_count": 21,
   "id": "82086728",
   "metadata": {},
   "outputs": [
    {
     "name": "stdout",
     "output_type": "stream",
     "text": [
      "**Resistant:**\n",
      "projective-1:mdbl-2007-bl, projective:mdbl-2007-bl, jacobian:mdbl-2007-bl, xyzz:mdbl-2008-s-1, projective-3:mdbl-2007-bl, xyzz-3:mdbl-2008-s-1, xyzz-3:mdbl-2008-s-2, jacobian-3:mdbl-2007-bl, \n",
      "**Vulnerable:**\n",
      "jacobian-0:dbl-2007-bl: {3*X1^2 - 1, Y1^2 + 3*b - 2*X1, 2*b*X1 - X1^2 - 3, 2*X1 + 1, X1 - 1, X1^2 + 1, X1 + 1, X1^2 + 3, 2*b*X1 - 3, 9*X1^4 - 12*Y1^2*X1 + 6*a*X1^2 + a^2, Y1^2 - 3*b + 6*X1, Y1^2 + 3*b - 6*X1, 6*b*X1 - X1^2 - 1, X1^2 - a, Y1^2 - 2*a*X1 - 3*b, Y1^2 - 3*b + 2*X1, 3*X1^3 - 4*Y1^2, 3*X1^4 - 4*Y1^2*X1 - 6*X1^2 + 3, 2*a*X1 + 3*b, 9*X1^4 - 12*Y1^2*X1 - 6*X1^2 + 1, 3*b - 2*X1, a*X1^2 - a^2 + 6*b*X1, X1^2 + Y1 - a, 3*X1^2 + a, X1^2 + 2*Y1 - a, X1^2 + a, b - 2*X1, Y1^2 + 2*a*X1 + 3*b}\n",
      "\n",
      "jacobian-0:dbl-1998-cmo-2: {3*X1^2 - 1, Y1^2 + 3*b - 2*X1, 2*b*X1 - X1^2 - 3, 2*X1 + 1, X1 - 1, X1^2 + 1, X1 + 1, X1^2 + 3, 2*b*X1 - 3, 9*X1^4 - 12*Y1^2*X1 + 6*a*X1^2 + a^2, Y1^2 - 3*b + 6*X1, Y1^2 + 3*b - 6*X1, 6*b*X1 - X1^2 - 1, X1^2 - a, Y1^2 - 2*a*X1 - 3*b, Y1^2 - 3*b + 2*X1, 3*X1^3 - 4*Y1^2, 3*X1^4 - 4*Y1^2*X1 - 6*X1^2 + 3, 2*a*X1 + 3*b, 9*X1^4 - 12*Y1^2*X1 - 6*X1^2 + 1, 3*b - 2*X1, a*X1^2 - a^2 + 6*b*X1, X1^2 + Y1 - a, 3*X1^2 + a, X1^2 + 2*Y1 - a, X1^2 + a, b - 2*X1, Y1^2 + 2*a*X1 + 3*b}\n",
      "\n",
      "jacobian-0:dbl-1998-cmo: {3*X1^2 - 1, Y1^2 + 3*b - 2*X1, 2*b*X1 - X1^2 - 3, 2*X1 + 1, X1 - 1, X1^2 + 1, X1 + 1, X1^2 + 3, 2*b*X1 - 3, 9*X1^4 - 12*Y1^2*X1 + 6*a*X1^2 + a^2, Y1^2 - 3*b + 6*X1, Y1^2 + 3*b - 6*X1, 6*b*X1 - X1^2 - 1, X1^2 - a, Y1^2 - 2*a*X1 - 3*b, Y1^2 - 3*b + 2*X1, 3*X1^3 - 4*Y1^2, 3*X1^4 - 4*Y1^2*X1 - 6*X1^2 + 3, 2*a*X1 + 3*b, 9*X1^4 - 12*Y1^2*X1 - 6*X1^2 + 1, 3*b - 2*X1, a*X1^2 - a^2 + 6*b*X1, X1^2 + Y1 - a, 3*X1^2 + a, X1^2 + 2*Y1 - a, X1^2 + a, b - 2*X1, Y1^2 + 2*a*X1 + 3*b}\n",
      "\n",
      "jacobian-0:mdbl-2007-bl: {3*X1^2 - 1, Y1^2 + 3*b - 2*X1, 2*b*X1 - X1^2 - 3, 2*X1 + 1, X1 - 1, X1^2 + 1, X1 + 1, X1^2 + 3, 2*b*X1 - 3, 9*X1^4 - 12*Y1^2*X1 + 6*a*X1^2 + a^2, Y1^2 - 3*b + 6*X1, Y1^2 + 3*b - 6*X1, 6*b*X1 - X1^2 - 1, X1^2 - a, Y1^2 - 2*a*X1 - 3*b, Y1^2 - 3*b + 2*X1, 3*X1^3 - 4*Y1^2, 3*X1^4 - 4*Y1^2*X1 - 6*X1^2 + 3, 2*a*X1 + 3*b, 9*X1^4 - 12*Y1^2*X1 - 6*X1^2 + 1, 3*b - 2*X1, a*X1^2 - a^2 + 6*b*X1, X1^2 + Y1 - a, 3*X1^2 + a, X1^2 + 2*Y1 - a, X1^2 + a, b - 2*X1, Y1^2 + 2*a*X1 + 3*b}\n",
      "\n",
      "jacobian-0:dbl-2009-l: {3*X1^2 - 1, Y1^2 + 3*b - 2*X1, 2*b*X1 - X1^2 - 3, 2*X1 + 1, X1 - 1, X1^2 + 1, X1 + 1, X1^2 + 3, 2*b*X1 - 3, 9*X1^4 - 12*Y1^2*X1 + 6*a*X1^2 + a^2, Y1^2 - 3*b + 6*X1, Y1^2 + 3*b - 6*X1, 6*b*X1 - X1^2 - 1, X1^2 - a, Y1^2 - 2*a*X1 - 3*b, Y1^2 - 3*b + 2*X1, 3*X1^3 - 4*Y1^2, 3*X1^4 - 4*Y1^2*X1 - 6*X1^2 + 3, 2*a*X1 + 3*b, 9*X1^4 - 12*Y1^2*X1 - 6*X1^2 + 1, 3*b - 2*X1, a*X1^2 - a^2 + 6*b*X1, X1^2 + Y1 - a, 3*X1^2 + a, X1^2 + 2*Y1 - a, X1^2 + a, b - 2*X1, Y1^2 + 2*a*X1 + 3*b}\n",
      "\n",
      "jacobian-0:dbl-2009-alnr: {3*X1^2 - 1, Y1^2 + 3*b - 2*X1, 2*b*X1 - X1^2 - 3, 2*X1 + 1, X1 - 1, X1^2 + 1, X1 + 1, X1^2 + 3, 2*b*X1 - 3, 9*X1^4 - 12*Y1^2*X1 + 6*a*X1^2 + a^2, Y1^2 - 3*b + 6*X1, Y1^2 + 3*b - 6*X1, 6*b*X1 - X1^2 - 1, X1^2 - a, Y1^2 - 2*a*X1 - 3*b, Y1^2 - 3*b + 2*X1, 3*X1^3 - 4*Y1^2, 3*X1^4 - 4*Y1^2*X1 - 6*X1^2 + 3, 2*a*X1 + 3*b, 9*X1^4 - 12*Y1^2*X1 - 6*X1^2 + 1, 3*b - 2*X1, a*X1^2 - a^2 + 6*b*X1, X1^2 + Y1 - a, 3*X1^2 + a, X1^2 + 2*Y1 - a, X1^2 + a, b - 2*X1, Y1^2 + 2*a*X1 + 3*b}\n",
      "\n",
      "jacobian-0:dbl-1986-cc: {3*X1^2 - 1, Y1^2 + 3*b - 2*X1, 2*b*X1 - X1^2 - 3, 2*X1 + 1, X1 - 1, X1^2 + 1, X1 + 1, X1^2 + 3, 2*b*X1 - 3, 9*X1^4 - 12*Y1^2*X1 + 6*a*X1^2 + a^2, Y1^2 - 3*b + 6*X1, Y1^2 + 3*b - 6*X1, 6*b*X1 - X1^2 - 1, X1^2 - a, Y1^2 - 2*a*X1 - 3*b, Y1^2 - 3*b + 2*X1, 3*X1^3 - 4*Y1^2, 3*X1^4 - 4*Y1^2*X1 - 6*X1^2 + 3, 2*a*X1 + 3*b, 9*X1^4 - 12*Y1^2*X1 - 6*X1^2 + 1, 3*b - 2*X1, a*X1^2 - a^2 + 6*b*X1, X1^2 + Y1 - a, 3*X1^2 + a, X1^2 + 2*Y1 - a, X1^2 + a, b - 2*X1, Y1^2 + 2*a*X1 + 3*b}\n",
      "\n",
      "w12-0:dbl-2010-cln: {3*X1^2 - 1, Y1^2 + 3*b - 2*X1, 2*b*X1 - X1^2 - 3, 2*X1 + 1, X1 - 1, X1^2 + 1, X1 + 1, X1^2 + 3, 2*b*X1 - 3, 9*X1^4 - 12*Y1^2*X1 + 6*a*X1^2 + a^2, Y1^2 - 3*b + 6*X1, Y1^2 + 3*b - 6*X1, 6*b*X1 - X1^2 - 1, X1^2 - a, Y1^2 - 2*a*X1 - 3*b, Y1^2 - 3*b + 2*X1, 3*X1^3 - 4*Y1^2, 3*X1^4 - 4*Y1^2*X1 - 6*X1^2 + 3, 2*a*X1 + 3*b, 9*X1^4 - 12*Y1^2*X1 - 6*X1^2 + 1, 3*b - 2*X1, a*X1^2 - a^2 + 6*b*X1, X1^2 + Y1 - a, 3*X1^2 + a, X1^2 + 2*Y1 - a, X1^2 + a, b - 2*X1, Y1^2 + 2*a*X1 + 3*b}\n",
      "\n",
      "projective-1:dbl-2007-bl: {3*X1^2 - 1, Y1^2 + 3*b - 2*X1, 2*b*X1 - X1^2 - 3, 2*X1 + 1, X1 - 1, X1^2 + 1, X1 + 1, X1^2 + 3, 2*b*X1 - 3, 9*X1^4 - 12*Y1^2*X1 + 6*a*X1^2 + a^2, Y1^2 - 3*b + 6*X1, Y1^2 + 3*b - 6*X1, 6*b*X1 - X1^2 - 1, X1^2 - a, Y1^2 - 2*a*X1 - 3*b, Y1^2 - 3*b + 2*X1, 3*X1^3 - 4*Y1^2, 3*X1^4 - 4*Y1^2*X1 - 6*X1^2 + 3, 2*a*X1 + 3*b, 9*X1^4 - 12*Y1^2*X1 - 6*X1^2 + 1, 3*b - 2*X1, a*X1^2 - a^2 + 6*b*X1, X1^2 + Y1 - a, 3*X1^2 + a, X1^2 + 2*Y1 - a, X1^2 + a, b - 2*X1, Y1^2 + 2*a*X1 + 3*b}\n",
      "\n",
      "projective-1:dbl-1998-cmo-2: {3*X1^2 - 1, Y1^2 + 3*b - 2*X1, 2*b*X1 - X1^2 - 3, 2*X1 + 1, X1 - 1, X1^2 + 1, X1 + 1, X1^2 + 3, 2*b*X1 - 3, 9*X1^4 - 12*Y1^2*X1 + 6*a*X1^2 + a^2, Y1^2 - 3*b + 6*X1, Y1^2 + 3*b - 6*X1, 6*b*X1 - X1^2 - 1, X1^2 - a, Y1^2 - 2*a*X1 - 3*b, Y1^2 - 3*b + 2*X1, 3*X1^3 - 4*Y1^2, 3*X1^4 - 4*Y1^2*X1 - 6*X1^2 + 3, 2*a*X1 + 3*b, 9*X1^4 - 12*Y1^2*X1 - 6*X1^2 + 1, 3*b - 2*X1, a*X1^2 - a^2 + 6*b*X1, X1^2 + Y1 - a, 3*X1^2 + a, X1^2 + 2*Y1 - a, X1^2 + a, b - 2*X1, Y1^2 + 2*a*X1 + 3*b}\n",
      "\n",
      "projective-1:dbl-1998-cmo: {3*X1^2 - 1, Y1^2 + 3*b - 2*X1, 2*b*X1 - X1^2 - 3, 2*X1 + 1, X1 - 1, X1^2 + 1, X1 + 1, X1^2 + 3, 2*b*X1 - 3, 9*X1^4 - 12*Y1^2*X1 + 6*a*X1^2 + a^2, Y1^2 - 3*b + 6*X1, Y1^2 + 3*b - 6*X1, 6*b*X1 - X1^2 - 1, X1^2 - a, Y1^2 - 2*a*X1 - 3*b, Y1^2 - 3*b + 2*X1, 3*X1^3 - 4*Y1^2, 3*X1^4 - 4*Y1^2*X1 - 6*X1^2 + 3, 2*a*X1 + 3*b, 9*X1^4 - 12*Y1^2*X1 - 6*X1^2 + 1, 3*b - 2*X1, a*X1^2 - a^2 + 6*b*X1, X1^2 + Y1 - a, 3*X1^2 + a, X1^2 + 2*Y1 - a, X1^2 + a, b - 2*X1, Y1^2 + 2*a*X1 + 3*b}\n",
      "\n",
      "projective-1:dbl-2015-rcb: {3*X1^2 - 1, Y1^2 + 3*b - 2*X1, 2*b*X1 - X1^2 - 3, 2*X1 + 1, X1 - 1, X1^2 + 1, X1 + 1, X1^2 + 3, 2*b*X1 - 3, 9*X1^4 - 12*Y1^2*X1 + 6*a*X1^2 + a^2, Y1^2 - 3*b + 6*X1, Y1^2 + 3*b - 6*X1, 6*b*X1 - X1^2 - 1, X1^2 - a, Y1^2 - 2*a*X1 - 3*b, Y1^2 - 3*b + 2*X1, 3*X1^3 - 4*Y1^2, 3*X1^4 - 4*Y1^2*X1 - 6*X1^2 + 3, 2*a*X1 + 3*b, 9*X1^4 - 12*Y1^2*X1 - 6*X1^2 + 1, 3*b - 2*X1, a*X1^2 - a^2 + 6*b*X1, X1^2 + Y1 - a, 3*X1^2 + a, X1^2 + 2*Y1 - a, X1^2 + a, b - 2*X1, Y1^2 + 2*a*X1 + 3*b}\n",
      "\n",
      "projective:dbl-2007-bl: {3*X1^2 - 1, Y1^2 + 3*b - 2*X1, 2*b*X1 - X1^2 - 3, 2*X1 + 1, X1 - 1, X1^2 + 1, X1 + 1, X1^2 + 3, 2*b*X1 - 3, 9*X1^4 - 12*Y1^2*X1 + 6*a*X1^2 + a^2, Y1^2 - 3*b + 6*X1, Y1^2 + 3*b - 6*X1, 6*b*X1 - X1^2 - 1, X1^2 - a, Y1^2 - 2*a*X1 - 3*b, Y1^2 - 3*b + 2*X1, 3*X1^3 - 4*Y1^2, 3*X1^4 - 4*Y1^2*X1 - 6*X1^2 + 3, 2*a*X1 + 3*b, 9*X1^4 - 12*Y1^2*X1 - 6*X1^2 + 1, 3*b - 2*X1, a*X1^2 - a^2 + 6*b*X1, X1^2 + Y1 - a, 3*X1^2 + a, X1^2 + 2*Y1 - a, X1^2 + a, b - 2*X1, Y1^2 + 2*a*X1 + 3*b}\n",
      "\n",
      "projective:dbl-1998-cmo-2: {3*X1^2 - 1, Y1^2 + 3*b - 2*X1, 2*b*X1 - X1^2 - 3, 2*X1 + 1, X1 - 1, X1^2 + 1, X1 + 1, X1^2 + 3, 2*b*X1 - 3, 9*X1^4 - 12*Y1^2*X1 + 6*a*X1^2 + a^2, Y1^2 - 3*b + 6*X1, Y1^2 + 3*b - 6*X1, 6*b*X1 - X1^2 - 1, X1^2 - a, Y1^2 - 2*a*X1 - 3*b, Y1^2 - 3*b + 2*X1, 3*X1^3 - 4*Y1^2, 3*X1^4 - 4*Y1^2*X1 - 6*X1^2 + 3, 2*a*X1 + 3*b, 9*X1^4 - 12*Y1^2*X1 - 6*X1^2 + 1, 3*b - 2*X1, a*X1^2 - a^2 + 6*b*X1, X1^2 + Y1 - a, 3*X1^2 + a, X1^2 + 2*Y1 - a, X1^2 + a, b - 2*X1, Y1^2 + 2*a*X1 + 3*b}\n",
      "\n",
      "projective:dbl-1998-cmo: {3*X1^2 - 1, Y1^2 + 3*b - 2*X1, 2*b*X1 - X1^2 - 3, 2*X1 + 1, X1 - 1, X1^2 + 1, X1 + 1, X1^2 + 3, 2*b*X1 - 3, 9*X1^4 - 12*Y1^2*X1 + 6*a*X1^2 + a^2, Y1^2 - 3*b + 6*X1, Y1^2 + 3*b - 6*X1, 6*b*X1 - X1^2 - 1, X1^2 - a, Y1^2 - 2*a*X1 - 3*b, Y1^2 - 3*b + 2*X1, 3*X1^3 - 4*Y1^2, 3*X1^4 - 4*Y1^2*X1 - 6*X1^2 + 3, 2*a*X1 + 3*b, 9*X1^4 - 12*Y1^2*X1 - 6*X1^2 + 1, 3*b - 2*X1, a*X1^2 - a^2 + 6*b*X1, X1^2 + Y1 - a, 3*X1^2 + a, X1^2 + 2*Y1 - a, X1^2 + a, b - 2*X1, Y1^2 + 2*a*X1 + 3*b}\n",
      "\n",
      "projective:dbl-2015-rcb: {3*X1^2 - 1, Y1^2 + 3*b - 2*X1, 2*b*X1 - X1^2 - 3, 2*X1 + 1, X1 - 1, X1^2 + 1, X1 + 1, X1^2 + 3, 2*b*X1 - 3, 9*X1^4 - 12*Y1^2*X1 + 6*a*X1^2 + a^2, Y1^2 - 3*b + 6*X1, Y1^2 + 3*b - 6*X1, 6*b*X1 - X1^2 - 1, X1^2 - a, Y1^2 - 2*a*X1 - 3*b, Y1^2 - 3*b + 2*X1, 3*X1^3 - 4*Y1^2, 3*X1^4 - 4*Y1^2*X1 - 6*X1^2 + 3, 2*a*X1 + 3*b, 9*X1^4 - 12*Y1^2*X1 - 6*X1^2 + 1, 3*b - 2*X1, a*X1^2 - a^2 + 6*b*X1, X1^2 + Y1 - a, 3*X1^2 + a, X1^2 + 2*Y1 - a, X1^2 + a, b - 2*X1, Y1^2 + 2*a*X1 + 3*b}\n",
      "\n",
      "jacobian:dbl-2007-bl: {3*X1^2 - 1, Y1^2 + 3*b - 2*X1, 2*b*X1 - X1^2 - 3, 2*X1 + 1, X1 - 1, X1^2 + 1, X1 + 1, X1^2 + 3, 2*b*X1 - 3, 9*X1^4 - 12*Y1^2*X1 + 6*a*X1^2 + a^2, Y1^2 - 3*b + 6*X1, Y1^2 + 3*b - 6*X1, 6*b*X1 - X1^2 - 1, X1^2 - a, Y1^2 - 2*a*X1 - 3*b, Y1^2 - 3*b + 2*X1, 3*X1^3 - 4*Y1^2, 3*X1^4 - 4*Y1^2*X1 - 6*X1^2 + 3, 2*a*X1 + 3*b, 9*X1^4 - 12*Y1^2*X1 - 6*X1^2 + 1, 3*b - 2*X1, a*X1^2 - a^2 + 6*b*X1, X1^2 + Y1 - a, 3*X1^2 + a, X1^2 + 2*Y1 - a, X1^2 + a, b - 2*X1, Y1^2 + 2*a*X1 + 3*b}\n",
      "\n",
      "jacobian:dbl-1998-cmo-2: {3*X1^2 - 1, Y1^2 + 3*b - 2*X1, 2*b*X1 - X1^2 - 3, 2*X1 + 1, X1 - 1, X1^2 + 1, X1 + 1, X1^2 + 3, 2*b*X1 - 3, 9*X1^4 - 12*Y1^2*X1 + 6*a*X1^2 + a^2, Y1^2 - 3*b + 6*X1, Y1^2 + 3*b - 6*X1, 6*b*X1 - X1^2 - 1, X1^2 - a, Y1^2 - 2*a*X1 - 3*b, Y1^2 - 3*b + 2*X1, 3*X1^3 - 4*Y1^2, 3*X1^4 - 4*Y1^2*X1 - 6*X1^2 + 3, 2*a*X1 + 3*b, 9*X1^4 - 12*Y1^2*X1 - 6*X1^2 + 1, 3*b - 2*X1, a*X1^2 - a^2 + 6*b*X1, X1^2 + Y1 - a, 3*X1^2 + a, X1^2 + 2*Y1 - a, X1^2 + a, b - 2*X1, Y1^2 + 2*a*X1 + 3*b}\n",
      "\n",
      "jacobian:dbl-1998-cmo: {3*X1^2 - 1, Y1^2 + 3*b - 2*X1, 2*b*X1 - X1^2 - 3, 2*X1 + 1, X1 - 1, X1^2 + 1, X1 + 1, X1^2 + 3, 2*b*X1 - 3, 9*X1^4 - 12*Y1^2*X1 + 6*a*X1^2 + a^2, Y1^2 - 3*b + 6*X1, Y1^2 + 3*b - 6*X1, 6*b*X1 - X1^2 - 1, X1^2 - a, Y1^2 - 2*a*X1 - 3*b, Y1^2 - 3*b + 2*X1, 3*X1^3 - 4*Y1^2, 3*X1^4 - 4*Y1^2*X1 - 6*X1^2 + 3, 2*a*X1 + 3*b, 9*X1^4 - 12*Y1^2*X1 - 6*X1^2 + 1, 3*b - 2*X1, a*X1^2 - a^2 + 6*b*X1, X1^2 + Y1 - a, 3*X1^2 + a, X1^2 + 2*Y1 - a, X1^2 + a, b - 2*X1, Y1^2 + 2*a*X1 + 3*b}\n",
      "\n",
      "jacobian:dbl-1986-cc: {3*X1^2 - 1, Y1^2 + 3*b - 2*X1, 2*b*X1 - X1^2 - 3, 2*X1 + 1, X1 - 1, X1^2 + 1, X1 + 1, X1^2 + 3, 2*b*X1 - 3, 9*X1^4 - 12*Y1^2*X1 + 6*a*X1^2 + a^2, Y1^2 - 3*b + 6*X1, Y1^2 + 3*b - 6*X1, 6*b*X1 - X1^2 - 1, X1^2 - a, Y1^2 - 2*a*X1 - 3*b, Y1^2 - 3*b + 2*X1, 3*X1^3 - 4*Y1^2, 3*X1^4 - 4*Y1^2*X1 - 6*X1^2 + 3, 2*a*X1 + 3*b, 9*X1^4 - 12*Y1^2*X1 - 6*X1^2 + 1, 3*b - 2*X1, a*X1^2 - a^2 + 6*b*X1, X1^2 + Y1 - a, 3*X1^2 + a, X1^2 + 2*Y1 - a, X1^2 + a, b - 2*X1, Y1^2 + 2*a*X1 + 3*b}\n",
      "\n",
      "xyzz:dbl-2008-s-1: {3*X1^2 - 1, Y1^2 + 3*b - 2*X1, 2*b*X1 - X1^2 - 3, 2*X1 + 1, X1 - 1, X1^2 + 1, X1 + 1, X1^2 + 3, 2*b*X1 - 3, 9*X1^4 - 12*Y1^2*X1 + 6*a*X1^2 + a^2, Y1^2 - 3*b + 6*X1, Y1^2 + 3*b - 6*X1, 6*b*X1 - X1^2 - 1, X1^2 - a, Y1^2 - 2*a*X1 - 3*b, Y1^2 - 3*b + 2*X1, 3*X1^3 - 4*Y1^2, 3*X1^4 - 4*Y1^2*X1 - 6*X1^2 + 3, 2*a*X1 + 3*b, 9*X1^4 - 12*Y1^2*X1 - 6*X1^2 + 1, 3*b - 2*X1, a*X1^2 - a^2 + 6*b*X1, X1^2 + Y1 - a, 3*X1^2 + a, X1^2 + 2*Y1 - a, X1^2 + a, b - 2*X1, Y1^2 + 2*a*X1 + 3*b}\n",
      "\n",
      "modified:mdbl-2009-bl: {3*X1^2 - 1, Y1^2 + 3*b - 2*X1, 2*b*X1 - X1^2 - 3, 2*X1 + 1, X1 - 1, X1^2 + 1, X1 + 1, X1^2 + 3, 2*b*X1 - 3, 9*X1^4 - 12*Y1^2*X1 + 6*a*X1^2 + a^2, Y1^2 - 3*b + 6*X1, Y1^2 + 3*b - 6*X1, 6*b*X1 - X1^2 - 1, X1^2 - a, Y1^2 - 2*a*X1 - 3*b, Y1^2 - 3*b + 2*X1, 3*X1^3 - 4*Y1^2, 3*X1^4 - 4*Y1^2*X1 - 6*X1^2 + 3, 2*a*X1 + 3*b, 9*X1^4 - 12*Y1^2*X1 - 6*X1^2 + 1, 3*b - 2*X1, a*X1^2 - a^2 + 6*b*X1, X1^2 + Y1 - a, 3*X1^2 + a, X1^2 + 2*Y1 - a, X1^2 + a, b - 2*X1, Y1^2 + 2*a*X1 + 3*b}\n",
      "\n",
      "modified:dbl-2009-bl: {3*X1^2 - 1, Y1^2 + 3*b - 2*X1, 2*b*X1 - X1^2 - 3, 2*X1 + 1, X1 - 1, X1^2 + 1, X1 + 1, X1^2 + 3, 2*b*X1 - 3, 9*X1^4 - 12*Y1^2*X1 + 6*a*X1^2 + a^2, Y1^2 - 3*b + 6*X1, Y1^2 + 3*b - 6*X1, 6*b*X1 - X1^2 - 1, X1^2 - a, Y1^2 - 2*a*X1 - 3*b, Y1^2 - 3*b + 2*X1, 3*X1^3 - 4*Y1^2, 3*X1^4 - 4*Y1^2*X1 - 6*X1^2 + 3, 2*a*X1 + 3*b, 9*X1^4 - 12*Y1^2*X1 - 6*X1^2 + 1, 3*b - 2*X1, a*X1^2 - a^2 + 6*b*X1, X1^2 + Y1 - a, 3*X1^2 + a, X1^2 + 2*Y1 - a, X1^2 + a, b - 2*X1, Y1^2 + 2*a*X1 + 3*b}\n",
      "\n",
      "modified:dbl-1998-cmo-2: {3*X1^2 - 1, Y1^2 + 3*b - 2*X1, 2*b*X1 - X1^2 - 3, 2*X1 + 1, X1 - 1, X1^2 + 1, X1 + 1, X1^2 + 3, 2*b*X1 - 3, 9*X1^4 - 12*Y1^2*X1 + 6*a*X1^2 + a^2, Y1^2 - 3*b + 6*X1, Y1^2 + 3*b - 6*X1, 6*b*X1 - X1^2 - 1, X1^2 - a, Y1^2 - 2*a*X1 - 3*b, Y1^2 - 3*b + 2*X1, 3*X1^3 - 4*Y1^2, 3*X1^4 - 4*Y1^2*X1 - 6*X1^2 + 3, 2*a*X1 + 3*b, 9*X1^4 - 12*Y1^2*X1 - 6*X1^2 + 1, 3*b - 2*X1, a*X1^2 - a^2 + 6*b*X1, X1^2 + Y1 - a, 3*X1^2 + a, X1^2 + 2*Y1 - a, X1^2 + a, b - 2*X1, Y1^2 + 2*a*X1 + 3*b}\n",
      "\n",
      "projective-3:dbl-2007-bl: {3*X1^2 - 1, Y1^2 + 3*b - 2*X1, 2*b*X1 - X1^2 - 3, 2*X1 + 1, X1 - 1, X1^2 + 1, X1 + 1, X1^2 + 3, 2*b*X1 - 3, 9*X1^4 - 12*Y1^2*X1 + 6*a*X1^2 + a^2, Y1^2 - 3*b + 6*X1, Y1^2 + 3*b - 6*X1, 6*b*X1 - X1^2 - 1, X1^2 - a, Y1^2 - 2*a*X1 - 3*b, Y1^2 - 3*b + 2*X1, 3*X1^3 - 4*Y1^2, 3*X1^4 - 4*Y1^2*X1 - 6*X1^2 + 3, 2*a*X1 + 3*b, 9*X1^4 - 12*Y1^2*X1 - 6*X1^2 + 1, 3*b - 2*X1, a*X1^2 - a^2 + 6*b*X1, X1^2 + Y1 - a, 3*X1^2 + a, X1^2 + 2*Y1 - a, X1^2 + a, b - 2*X1, Y1^2 + 2*a*X1 + 3*b}\n",
      "\n",
      "projective-3:dbl-1998-cmo-2: {3*X1^2 - 1, Y1^2 + 3*b - 2*X1, 2*b*X1 - X1^2 - 3, 2*X1 + 1, X1 - 1, X1^2 + 1, X1 + 1, X1^2 + 3, 2*b*X1 - 3, 9*X1^4 - 12*Y1^2*X1 + 6*a*X1^2 + a^2, Y1^2 - 3*b + 6*X1, Y1^2 + 3*b - 6*X1, 6*b*X1 - X1^2 - 1, X1^2 - a, Y1^2 - 2*a*X1 - 3*b, Y1^2 - 3*b + 2*X1, 3*X1^3 - 4*Y1^2, 3*X1^4 - 4*Y1^2*X1 - 6*X1^2 + 3, 2*a*X1 + 3*b, 9*X1^4 - 12*Y1^2*X1 - 6*X1^2 + 1, 3*b - 2*X1, a*X1^2 - a^2 + 6*b*X1, X1^2 + Y1 - a, 3*X1^2 + a, X1^2 + 2*Y1 - a, X1^2 + a, b - 2*X1, Y1^2 + 2*a*X1 + 3*b}\n",
      "\n",
      "projective-3:dbl-1998-cmo: {3*X1^2 - 1, Y1^2 + 3*b - 2*X1, 2*b*X1 - X1^2 - 3, 2*X1 + 1, X1 - 1, X1^2 + 1, X1 + 1, X1^2 + 3, 2*b*X1 - 3, 9*X1^4 - 12*Y1^2*X1 + 6*a*X1^2 + a^2, Y1^2 - 3*b + 6*X1, Y1^2 + 3*b - 6*X1, 6*b*X1 - X1^2 - 1, X1^2 - a, Y1^2 - 2*a*X1 - 3*b, Y1^2 - 3*b + 2*X1, 3*X1^3 - 4*Y1^2, 3*X1^4 - 4*Y1^2*X1 - 6*X1^2 + 3, 2*a*X1 + 3*b, 9*X1^4 - 12*Y1^2*X1 - 6*X1^2 + 1, 3*b - 2*X1, a*X1^2 - a^2 + 6*b*X1, X1^2 + Y1 - a, 3*X1^2 + a, X1^2 + 2*Y1 - a, X1^2 + a, b - 2*X1, Y1^2 + 2*a*X1 + 3*b}\n",
      "\n",
      "projective-3:dbl-2015-rcb: {3*X1^2 - 1, Y1^2 + 3*b - 2*X1, 2*b*X1 - X1^2 - 3, 2*X1 + 1, X1 - 1, X1^2 + 1, X1 + 1, X1^2 + 3, 2*b*X1 - 3, 9*X1^4 - 12*Y1^2*X1 + 6*a*X1^2 + a^2, Y1^2 - 3*b + 6*X1, Y1^2 + 3*b - 6*X1, 6*b*X1 - X1^2 - 1, X1^2 - a, Y1^2 - 2*a*X1 - 3*b, Y1^2 - 3*b + 2*X1, 3*X1^3 - 4*Y1^2, 3*X1^4 - 4*Y1^2*X1 - 6*X1^2 + 3, 2*a*X1 + 3*b, 9*X1^4 - 12*Y1^2*X1 - 6*X1^2 + 1, 3*b - 2*X1, a*X1^2 - a^2 + 6*b*X1, X1^2 + Y1 - a, 3*X1^2 + a, X1^2 + 2*Y1 - a, X1^2 + a, b - 2*X1, Y1^2 + 2*a*X1 + 3*b}\n",
      "\n",
      "projective-3:dbl-2007-bl-2: {3*X1^2 - 1, Y1^2 + 3*b - 2*X1, 2*b*X1 - X1^2 - 3, 2*X1 + 1, X1 - 1, X1^2 + 1, X1 + 1, X1^2 + 3, 2*b*X1 - 3, 9*X1^4 - 12*Y1^2*X1 + 6*a*X1^2 + a^2, Y1^2 - 3*b + 6*X1, Y1^2 + 3*b - 6*X1, 6*b*X1 - X1^2 - 1, X1^2 - a, Y1^2 - 2*a*X1 - 3*b, Y1^2 - 3*b + 2*X1, 3*X1^3 - 4*Y1^2, 3*X1^4 - 4*Y1^2*X1 - 6*X1^2 + 3, 2*a*X1 + 3*b, 9*X1^4 - 12*Y1^2*X1 - 6*X1^2 + 1, 3*b - 2*X1, a*X1^2 - a^2 + 6*b*X1, X1^2 + Y1 - a, 3*X1^2 + a, X1^2 + 2*Y1 - a, X1^2 + a, b - 2*X1, Y1^2 + 2*a*X1 + 3*b}\n",
      "\n",
      "projective-3:dbl-2015-rcb-3: {3*X1^2 - 1, Y1^2 + 3*b - 2*X1, 2*b*X1 - X1^2 - 3, 2*X1 + 1, X1 - 1, X1^2 + 1, X1 + 1, X1^2 + 3, 2*b*X1 - 3, 9*X1^4 - 12*Y1^2*X1 + 6*a*X1^2 + a^2, Y1^2 - 3*b + 6*X1, Y1^2 + 3*b - 6*X1, 6*b*X1 - X1^2 - 1, X1^2 - a, Y1^2 - 2*a*X1 - 3*b, Y1^2 - 3*b + 2*X1, 3*X1^3 - 4*Y1^2, 3*X1^4 - 4*Y1^2*X1 - 6*X1^2 + 3, 2*a*X1 + 3*b, 9*X1^4 - 12*Y1^2*X1 - 6*X1^2 + 1, 3*b - 2*X1, a*X1^2 - a^2 + 6*b*X1, X1^2 + Y1 - a, 3*X1^2 + a, X1^2 + 2*Y1 - a, X1^2 + a, b - 2*X1, Y1^2 + 2*a*X1 + 3*b}\n",
      "\n",
      "xyzz-3:dbl-2008-s-1: {3*X1^2 - 1, Y1^2 + 3*b - 2*X1, 2*b*X1 - X1^2 - 3, 2*X1 + 1, X1 - 1, X1^2 + 1, X1 + 1, X1^2 + 3, 2*b*X1 - 3, 9*X1^4 - 12*Y1^2*X1 + 6*a*X1^2 + a^2, Y1^2 - 3*b + 6*X1, Y1^2 + 3*b - 6*X1, 6*b*X1 - X1^2 - 1, X1^2 - a, Y1^2 - 2*a*X1 - 3*b, Y1^2 - 3*b + 2*X1, 3*X1^3 - 4*Y1^2, 3*X1^4 - 4*Y1^2*X1 - 6*X1^2 + 3, 2*a*X1 + 3*b, 9*X1^4 - 12*Y1^2*X1 - 6*X1^2 + 1, 3*b - 2*X1, a*X1^2 - a^2 + 6*b*X1, X1^2 + Y1 - a, 3*X1^2 + a, X1^2 + 2*Y1 - a, X1^2 + a, b - 2*X1, Y1^2 + 2*a*X1 + 3*b}\n",
      "\n",
      "xyzz-3:dbl-2008-s-2: {3*X1^2 - 1, Y1^2 + 3*b - 2*X1, 2*b*X1 - X1^2 - 3, 2*X1 + 1, X1 - 1, X1^2 + 1, X1 + 1, X1^2 + 3, 2*b*X1 - 3, 9*X1^4 - 12*Y1^2*X1 + 6*a*X1^2 + a^2, Y1^2 - 3*b + 6*X1, Y1^2 + 3*b - 6*X1, 6*b*X1 - X1^2 - 1, X1^2 - a, Y1^2 - 2*a*X1 - 3*b, Y1^2 - 3*b + 2*X1, 3*X1^3 - 4*Y1^2, 3*X1^4 - 4*Y1^2*X1 - 6*X1^2 + 3, 2*a*X1 + 3*b, 9*X1^4 - 12*Y1^2*X1 - 6*X1^2 + 1, 3*b - 2*X1, a*X1^2 - a^2 + 6*b*X1, X1^2 + Y1 - a, 3*X1^2 + a, X1^2 + 2*Y1 - a, X1^2 + a, b - 2*X1, Y1^2 + 2*a*X1 + 3*b}\n",
      "\n",
      "jacobian-3:dbl-2007-bl: {3*X1^2 - 1, Y1^2 + 3*b - 2*X1, 2*b*X1 - X1^2 - 3, 2*X1 + 1, X1 - 1, X1^2 + 1, X1 + 1, X1^2 + 3, 2*b*X1 - 3, 9*X1^4 - 12*Y1^2*X1 + 6*a*X1^2 + a^2, Y1^2 - 3*b + 6*X1, Y1^2 + 3*b - 6*X1, 6*b*X1 - X1^2 - 1, X1^2 - a, Y1^2 - 2*a*X1 - 3*b, Y1^2 - 3*b + 2*X1, 3*X1^3 - 4*Y1^2, 3*X1^4 - 4*Y1^2*X1 - 6*X1^2 + 3, 2*a*X1 + 3*b, 9*X1^4 - 12*Y1^2*X1 - 6*X1^2 + 1, 3*b - 2*X1, a*X1^2 - a^2 + 6*b*X1, X1^2 + Y1 - a, 3*X1^2 + a, X1^2 + 2*Y1 - a, X1^2 + a, b - 2*X1, Y1^2 + 2*a*X1 + 3*b}\n",
      "\n",
      "jacobian-3:dbl-1998-cmo-2: {3*X1^2 - 1, Y1^2 + 3*b - 2*X1, 2*b*X1 - X1^2 - 3, 2*X1 + 1, X1 - 1, X1^2 + 1, X1 + 1, X1^2 + 3, 2*b*X1 - 3, 9*X1^4 - 12*Y1^2*X1 + 6*a*X1^2 + a^2, Y1^2 - 3*b + 6*X1, Y1^2 + 3*b - 6*X1, 6*b*X1 - X1^2 - 1, X1^2 - a, Y1^2 - 2*a*X1 - 3*b, Y1^2 - 3*b + 2*X1, 3*X1^3 - 4*Y1^2, 3*X1^4 - 4*Y1^2*X1 - 6*X1^2 + 3, 2*a*X1 + 3*b, 9*X1^4 - 12*Y1^2*X1 - 6*X1^2 + 1, 3*b - 2*X1, a*X1^2 - a^2 + 6*b*X1, X1^2 + Y1 - a, 3*X1^2 + a, X1^2 + 2*Y1 - a, X1^2 + a, b - 2*X1, Y1^2 + 2*a*X1 + 3*b}\n",
      "\n",
      "jacobian-3:dbl-1998-cmo: {3*X1^2 - 1, Y1^2 + 3*b - 2*X1, 2*b*X1 - X1^2 - 3, 2*X1 + 1, X1 - 1, X1^2 + 1, X1 + 1, X1^2 + 3, 2*b*X1 - 3, 9*X1^4 - 12*Y1^2*X1 + 6*a*X1^2 + a^2, Y1^2 - 3*b + 6*X1, Y1^2 + 3*b - 6*X1, 6*b*X1 - X1^2 - 1, X1^2 - a, Y1^2 - 2*a*X1 - 3*b, Y1^2 - 3*b + 2*X1, 3*X1^3 - 4*Y1^2, 3*X1^4 - 4*Y1^2*X1 - 6*X1^2 + 3, 2*a*X1 + 3*b, 9*X1^4 - 12*Y1^2*X1 - 6*X1^2 + 1, 3*b - 2*X1, a*X1^2 - a^2 + 6*b*X1, X1^2 + Y1 - a, 3*X1^2 + a, X1^2 + 2*Y1 - a, X1^2 + a, b - 2*X1, Y1^2 + 2*a*X1 + 3*b}\n",
      "\n",
      "jacobian-3:dbl-2001-b: {3*X1^2 - 1, Y1^2 + 3*b - 2*X1, 2*b*X1 - X1^2 - 3, 2*X1 + 1, X1 - 1, X1^2 + 1, X1 + 1, X1^2 + 3, 2*b*X1 - 3, 9*X1^4 - 12*Y1^2*X1 + 6*a*X1^2 + a^2, Y1^2 - 3*b + 6*X1, Y1^2 + 3*b - 6*X1, 6*b*X1 - X1^2 - 1, X1^2 - a, Y1^2 - 2*a*X1 - 3*b, Y1^2 - 3*b + 2*X1, 3*X1^3 - 4*Y1^2, 3*X1^4 - 4*Y1^2*X1 - 6*X1^2 + 3, 2*a*X1 + 3*b, 9*X1^4 - 12*Y1^2*X1 - 6*X1^2 + 1, 3*b - 2*X1, a*X1^2 - a^2 + 6*b*X1, X1^2 + Y1 - a, 3*X1^2 + a, X1^2 + 2*Y1 - a, X1^2 + a, b - 2*X1, Y1^2 + 2*a*X1 + 3*b}\n",
      "\n",
      "jacobian-3:dbl-1986-cc-2: {3*X1^2 - 1, Y1^2 + 3*b - 2*X1, 2*b*X1 - X1^2 - 3, 2*X1 + 1, X1 - 1, X1^2 + 1, X1 + 1, X1^2 + 3, 2*b*X1 - 3, 9*X1^4 - 12*Y1^2*X1 + 6*a*X1^2 + a^2, Y1^2 - 3*b + 6*X1, Y1^2 + 3*b - 6*X1, 6*b*X1 - X1^2 - 1, X1^2 - a, Y1^2 - 2*a*X1 - 3*b, Y1^2 - 3*b + 2*X1, 3*X1^3 - 4*Y1^2, 3*X1^4 - 4*Y1^2*X1 - 6*X1^2 + 3, 2*a*X1 + 3*b, 9*X1^4 - 12*Y1^2*X1 - 6*X1^2 + 1, 3*b - 2*X1, a*X1^2 - a^2 + 6*b*X1, X1^2 + Y1 - a, 3*X1^2 + a, X1^2 + 2*Y1 - a, X1^2 + a, b - 2*X1, Y1^2 + 2*a*X1 + 3*b}\n",
      "\n",
      "jacobian-3:dbl-1986-cc: {3*X1^2 - 1, Y1^2 + 3*b - 2*X1, 2*b*X1 - X1^2 - 3, 2*X1 + 1, X1 - 1, X1^2 + 1, X1 + 1, X1^2 + 3, 2*b*X1 - 3, 9*X1^4 - 12*Y1^2*X1 + 6*a*X1^2 + a^2, Y1^2 - 3*b + 6*X1, Y1^2 + 3*b - 6*X1, 6*b*X1 - X1^2 - 1, X1^2 - a, Y1^2 - 2*a*X1 - 3*b, Y1^2 - 3*b + 2*X1, 3*X1^3 - 4*Y1^2, 3*X1^4 - 4*Y1^2*X1 - 6*X1^2 + 3, 2*a*X1 + 3*b, 9*X1^4 - 12*Y1^2*X1 - 6*X1^2 + 1, 3*b - 2*X1, a*X1^2 - a^2 + 6*b*X1, X1^2 + Y1 - a, 3*X1^2 + a, X1^2 + 2*Y1 - a, X1^2 + a, b - 2*X1, Y1^2 + 2*a*X1 + 3*b}\n",
      "\n",
      "xz:dbl-2002-bj-2: {3*X1^2 - 1, Y1^2 + 3*b - 2*X1, 2*b*X1 - X1^2 - 3, 2*X1 + 1, X1 - 1, X1^2 + 1, X1 + 1, X1^2 + 3, 2*b*X1 - 3, 9*X1^4 - 12*Y1^2*X1 + 6*a*X1^2 + a^2, Y1^2 - 3*b + 6*X1, Y1^2 + 3*b - 6*X1, 6*b*X1 - X1^2 - 1, X1^2 - a, Y1^2 - 2*a*X1 - 3*b, Y1^2 - 3*b + 2*X1, 3*X1^3 - 4*Y1^2, 3*X1^4 - 4*Y1^2*X1 - 6*X1^2 + 3, 2*a*X1 + 3*b, 9*X1^4 - 12*Y1^2*X1 - 6*X1^2 + 1, 3*b - 2*X1, a*X1^2 - a^2 + 6*b*X1, X1^2 + Y1 - a, 3*X1^2 + a, X1^2 + 2*Y1 - a, X1^2 + a, b - 2*X1, Y1^2 + 2*a*X1 + 3*b}\n",
      "\n",
      "xz:dbl-2002-bj: {3*X1^2 - 1, Y1^2 + 3*b - 2*X1, 2*b*X1 - X1^2 - 3, 2*X1 + 1, X1 - 1, X1^2 + 1, X1 + 1, X1^2 + 3, 2*b*X1 - 3, 9*X1^4 - 12*Y1^2*X1 + 6*a*X1^2 + a^2, Y1^2 - 3*b + 6*X1, Y1^2 + 3*b - 6*X1, 6*b*X1 - X1^2 - 1, X1^2 - a, Y1^2 - 2*a*X1 - 3*b, Y1^2 - 3*b + 2*X1, 3*X1^3 - 4*Y1^2, 3*X1^4 - 4*Y1^2*X1 - 6*X1^2 + 3, 2*a*X1 + 3*b, 9*X1^4 - 12*Y1^2*X1 - 6*X1^2 + 1, 3*b - 2*X1, a*X1^2 - a^2 + 6*b*X1, X1^2 + Y1 - a, 3*X1^2 + a, X1^2 + 2*Y1 - a, X1^2 + a, b - 2*X1, Y1^2 + 2*a*X1 + 3*b}\n",
      "\n",
      "xz:dbl-2002-it: {3*X1^2 - 1, Y1^2 + 3*b - 2*X1, 2*b*X1 - X1^2 - 3, 2*X1 + 1, X1 - 1, X1^2 + 1, X1 + 1, X1^2 + 3, 2*b*X1 - 3, 9*X1^4 - 12*Y1^2*X1 + 6*a*X1^2 + a^2, Y1^2 - 3*b + 6*X1, Y1^2 + 3*b - 6*X1, 6*b*X1 - X1^2 - 1, X1^2 - a, Y1^2 - 2*a*X1 - 3*b, Y1^2 - 3*b + 2*X1, 3*X1^3 - 4*Y1^2, 3*X1^4 - 4*Y1^2*X1 - 6*X1^2 + 3, 2*a*X1 + 3*b, 9*X1^4 - 12*Y1^2*X1 - 6*X1^2 + 1, 3*b - 2*X1, a*X1^2 - a^2 + 6*b*X1, X1^2 + Y1 - a, 3*X1^2 + a, X1^2 + 2*Y1 - a, X1^2 + a, b - 2*X1, Y1^2 + 2*a*X1 + 3*b}\n",
      "\n",
      "xz:dbl-2002-bj-3: {3*X1^2 - 1, Y1^2 + 3*b - 2*X1, 2*b*X1 - X1^2 - 3, 2*X1 + 1, X1 - 1, X1^2 + 1, X1 + 1, X1^2 + 3, 2*b*X1 - 3, 9*X1^4 - 12*Y1^2*X1 + 6*a*X1^2 + a^2, Y1^2 - 3*b + 6*X1, Y1^2 + 3*b - 6*X1, 6*b*X1 - X1^2 - 1, X1^2 - a, Y1^2 - 2*a*X1 - 3*b, Y1^2 - 3*b + 2*X1, 3*X1^3 - 4*Y1^2, 3*X1^4 - 4*Y1^2*X1 - 6*X1^2 + 3, 2*a*X1 + 3*b, 9*X1^4 - 12*Y1^2*X1 - 6*X1^2 + 1, 3*b - 2*X1, a*X1^2 - a^2 + 6*b*X1, X1^2 + Y1 - a, 3*X1^2 + a, X1^2 + 2*Y1 - a, X1^2 + a, b - 2*X1, Y1^2 + 2*a*X1 + 3*b}\n",
      "\n",
      "xz:dbl-2002-it-2: {3*X1^2 - 1, Y1^2 + 3*b - 2*X1, 2*b*X1 - X1^2 - 3, 2*X1 + 1, X1 - 1, X1^2 + 1, X1 + 1, X1^2 + 3, 2*b*X1 - 3, 9*X1^4 - 12*Y1^2*X1 + 6*a*X1^2 + a^2, Y1^2 - 3*b + 6*X1, Y1^2 + 3*b - 6*X1, 6*b*X1 - X1^2 - 1, X1^2 - a, Y1^2 - 2*a*X1 - 3*b, Y1^2 - 3*b + 2*X1, 3*X1^3 - 4*Y1^2, 3*X1^4 - 4*Y1^2*X1 - 6*X1^2 + 3, 2*a*X1 + 3*b, 9*X1^4 - 12*Y1^2*X1 - 6*X1^2 + 1, 3*b - 2*X1, a*X1^2 - a^2 + 6*b*X1, X1^2 + Y1 - a, 3*X1^2 + a, X1^2 + 2*Y1 - a, X1^2 + a, b - 2*X1, Y1^2 + 2*a*X1 + 3*b}\n",
      "\n"
     ]
    }
   ],
   "source": [
    "fm0.save_zvp_results_per_formula(formula0s, \"results/shortw_dbl.json\")\n",
    "fm0.print_classified_formulas_dbl(formula0s)"
   ]
  },
  {
   "cell_type": "code",
   "execution_count": 22,
   "id": "23ff1e0c",
   "metadata": {},
   "outputs": [
    {
     "name": "stdout",
     "output_type": "stream",
     "text": [
      "Easy:\n",
      " {Y1^2*r - 1, Y1^2*r + 1}\n"
     ]
    }
   ],
   "source": [
    "\"\"\"\n",
    "Edwards doubling\n",
    "\"\"\"\n",
    "edwards_dbl = fm.load_formulas(f\"unrolling/unrolled/edwards_dbl.json\")\n",
    "formula0s = fm0.load_formula0s(edwards_dbl)\n",
    "print(\"Easy:\\n\",formula0s.easy_zvp())"
   ]
  },
  {
   "cell_type": "code",
   "execution_count": 23,
   "id": "04982461",
   "metadata": {},
   "outputs": [
    {
     "name": "stdout",
     "output_type": "stream",
     "text": [
      "**Resistant:**\n",
      "yz:mdbl-2006-g-2, yz:mdbl-2006-g-3, projective:dbl-2007-bl, projective:mdbl-2007-bl, projective:dbl-2007-bl-3, projective:dbl-2007-bl-2, inverted:dbl-2007-bl, inverted:mdbl-2007-bl, yzsquared:mdbl-2006-g, \n",
      "**Vulnerable:**\n",
      "yz:dbl-2006-g: {Y1^2*r - 1, Y1^2*r + 1}\n",
      "\n",
      "yz:dbl-2006-g-2: {Y1^2*r - 1, Y1^2*r + 1}\n",
      "\n",
      "yzsquared:dbl-2006-g: {Y1^2*r - 1, Y1^2*r + 1}\n",
      "\n"
     ]
    }
   ],
   "source": [
    "fm0.save_zvp_results_per_formula(formula0s, \"results/edwards_dbl.json\")\n",
    "fm0.print_classified_formulas_dbl(formula0s)"
   ]
  },
  {
   "cell_type": "code",
   "execution_count": 24,
   "id": "ddaedd77",
   "metadata": {},
   "outputs": [
    {
     "name": "stdout",
     "output_type": "stream",
     "text": [
      "Easy:\n",
      " {2*Y1 + X1, Y1 + 2*X1, Y1 + X1}\n"
     ]
    }
   ],
   "source": [
    "\"\"\"\n",
    "Edwards twisted doubling\n",
    "\"\"\"\n",
    "twisted_dbl = fm.load_formulas(f\"unrolling/unrolled/twisted_dbl.json\")\n",
    "formula0s = fm0.load_formula0s(twisted_dbl)\n",
    "print(\"Easy:\\n\",formula0s.easy_zvp())"
   ]
  },
  {
   "cell_type": "code",
   "execution_count": 25,
   "id": "1eec9b6f",
   "metadata": {},
   "outputs": [
    {
     "name": "stdout",
     "output_type": "stream",
     "text": [
      "**Resistant:**\n",
      "\n",
      "**Vulnerable:**\n",
      "extended-1:mdbl-2008-hwcd: {2*Y1 + X1, Y1 + 2*X1}\n",
      "\n",
      "extended-1:dbl-2008-hwcd: {2*Y1 + X1, Y1 + 2*X1}\n",
      "\n",
      "projective:mdbl-2008-bbjlp: {2*Y1 + X1, Y1 + 2*X1}\n",
      "\n",
      "projective:dbl-2008-bbjlp: {2*Y1 + X1, Y1 + 2*X1}\n",
      "\n",
      "inverted:mdbl-2008-bbjlp: {2*Y1 + X1, Y1 + 2*X1}\n",
      "\n",
      "inverted:dbl-2008-bbjlp: {2*Y1 + X1, Y1 + 2*X1}\n",
      "\n",
      "extended:mdbl-2008-hwcd: {2*Y1 + X1, Y1 + 2*X1}\n",
      "\n",
      "extended:dbl-2008-hwcd: {2*Y1 + X1, Y1 + 2*X1}\n",
      "\n"
     ]
    }
   ],
   "source": [
    "\"\"\"\n",
    "X1+Y1 can be ruled out\n",
    "\"\"\"\n",
    "for f0 in formula0s: \n",
    "    f0.remove_polynomials(['X1+Y1'])\n",
    "formula0s.update()\n",
    "fm0.save_zvp_results_per_formula(formula0s, \"results/twisted_dbl.json\")\n",
    "fm0.print_classified_formulas_dbl(formula0s)"
   ]
  },
  {
   "cell_type": "code",
   "execution_count": 26,
   "id": "be6cc1a5",
   "metadata": {
    "lines_to_next_cell": 2
   },
   "outputs": [
    {
     "name": "stdout",
     "output_type": "stream",
     "text": [
      "Easy:\n",
      " {a + X1}\n"
     ]
    }
   ],
   "source": [
    "\"\"\"\n",
    "Montgom doubling\n",
    "\"\"\"\n",
    "montgom_dbl = fm.load_formulas(f\"unrolling/unrolled/montgom_dbl.json\")\n",
    "formula0s = fm0.load_formula0s(montgom_dbl)\n",
    "print(\"Easy:\\n\",formula0s.easy_zvp())"
   ]
  },
  {
   "cell_type": "code",
   "execution_count": 27,
   "id": "a5f3bbbd",
   "metadata": {},
   "outputs": [
    {
     "name": "stdout",
     "output_type": "stream",
     "text": [
      "**Resistant:**\n",
      "xz:dbl-1987-m-2, xz:dbl-1987-m-3, xz:mdbl-1987-m, \n",
      "**Vulnerable:**\n",
      "xz:dbl-1987-m: {a + X1}\n",
      "\n"
     ]
    }
   ],
   "source": [
    "fm0.save_zvp_results_per_formula(formula0s, \"results/montgom_dbl.json\")\n",
    "fm0.print_classified_formulas_dbl(formula0s)"
   ]
  }
 ],
 "metadata": {
  "jupytext": {
   "cell_metadata_filter": "-all",
   "custom_cell_magics": "kql",
   "encoding": "# coding: utf-8",
   "executable": "/usr/bin/env python"
  },
  "kernelspec": {
   "display_name": "Python 3 (ipykernel)",
   "language": "python",
   "name": "python3"
  },
  "language_info": {
   "codemirror_mode": {
    "name": "ipython",
    "version": 3
   },
   "file_extension": ".py",
   "mimetype": "text/x-python",
   "name": "python",
   "nbconvert_exporter": "python",
   "pygments_lexer": "ipython3",
   "version": "3.10.12"
  },
  "vscode": {
   "interpreter": {
    "hash": "e7370f93d1d0cde622a1f8e1c04877d8463912d04d973331ad4851f04de6915a"
   }
  }
 },
 "nbformat": 4,
 "nbformat_minor": 5
}
